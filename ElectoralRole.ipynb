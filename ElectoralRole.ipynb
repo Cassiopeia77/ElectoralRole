{
 "cells": [
  {
   "cell_type": "markdown",
   "metadata": {},
   "source": [
    "ELECTORAL ROLL - EAST DUNBARTONSHIRE"
   ]
  },
  {
   "cell_type": "code",
   "execution_count": 8,
   "metadata": {
    "collapsed": false
   },
   "outputs": [],
   "source": [
    "# I removed the regional tabs in excel, created a new column for Sex, saved the file as a .csv and renamed the new file \"Electoral Role - East Dunbartonshire - ALL.csv\""
   ]
  },
  {
   "cell_type": "code",
   "execution_count": null,
   "metadata": {
    "collapsed": true
   },
   "outputs": [],
   "source": [
    "# To load the .csv data into a database called \"EastDunExplore\""
   ]
  },
  {
   "cell_type": "code",
   "execution_count": 9,
   "metadata": {
    "collapsed": true
   },
   "outputs": [],
   "source": [
    "EastDunExplore <- read.csv(\"Electoral Role - East Dunbartonshire - ALL.csv\")"
   ]
  },
  {
   "cell_type": "code",
   "execution_count": null,
   "metadata": {
    "collapsed": true
   },
   "outputs": [],
   "source": [
    "# Get a summary of the data using the str() or summary() functions"
   ]
  },
  {
   "cell_type": "code",
   "execution_count": 10,
   "metadata": {
    "collapsed": false
   },
   "outputs": [
    {
     "name": "stdout",
     "output_type": "stream",
     "text": [
      "'data.frame':\t50417 obs. of  21 variables:\n",
      " $ PD                : Factor w/ 51 levels \"CS50\",\"CS51\",..: 5 5 5 5 5 5 5 5 5 51 ...\n",
      " $ ENO               : num  1 2 3 4 5 6 7 8 9 1 ...\n",
      " $ Status            : Factor w/ 3 levels \"A\",\"E\",\"M\": 2 2 2 2 2 2 2 2 2 2 ...\n",
      " $ Title             : Factor w/ 7 levels \"\",\"DR\",\"LADY\",..: 1 1 1 1 1 1 1 1 1 1 ...\n",
      " $ Sex               : Factor w/ 3 levels \"\",\"Female\",\"Male\": 1 1 1 1 3 1 1 1 1 1 ...\n",
      " $ First.Name        : Factor w/ 3630 levels \"Aaron\",\"Aarti\",..: 945 1147 1147 199 1632 2937 1324 1521 3552 1512 ...\n",
      " $ Middle.Initials   : Factor w/ 1186 levels \"\",\"A\",\"A A\",\"A B\",..: 1 1 526 1 1 1 1 1 1 14 ...\n",
      " $ Surname           : Factor w/ 6076 levels \"Abbas\",\"Abbinnett\",..: 3983 3983 3983 5499 5499 5499 1991 1991 1991 4494 ...\n",
      " $ Suffix            : Factor w/ 8 levels \"\",\"JNR\",\"JR\",..: 1 1 1 1 1 1 1 1 1 1 ...\n",
      " $ Date.Of.Attainment: Factor w/ 258 levels \"\",\"01/01/17\",..: 1 1 1 1 1 1 1 1 1 1 ...\n",
      " $ Franchise.Flag    : Factor w/ 4 levels \"\",\"F\",\"G\",\"L\": 1 1 1 1 1 1 1 1 1 1 ...\n",
      " $ Address.1         : Factor w/ 26955 levels \"1  BALJAFFRAY COTTAGES\",..: 18005 18005 18005 19071 19071 19071 19377 19377 19377 153 ...\n",
      " $ Address.2         : Factor w/ 703 levels \"1, AUCHINAIRN ROAD\",..: 633 633 633 633 633 633 633 633 633 633 ...\n",
      " $ Address.3         : Factor w/ 23 levels \"\",\"BALMORE\",\"BARDOWIE\",..: 13 13 13 13 13 13 13 13 13 14 ...\n",
      " $ Address.4         : Factor w/ 6 levels \"\",\"CAMPSIE GLEN\",..: 1 1 1 1 1 1 1 1 1 1 ...\n",
      " $ Address.5         : Factor w/ 2 levels \"\",\"EAST DUNBARTONSHIRE\": 1 1 1 1 1 1 1 1 1 1 ...\n",
      " $ Address.6         : logi  NA NA NA NA NA NA ...\n",
      " $ Address.7         : logi  NA NA NA NA NA NA ...\n",
      " $ Address.8         : logi  NA NA NA NA NA NA ...\n",
      " $ Address.9         : logi  NA NA NA NA NA NA ...\n",
      " $ Postcode          : Factor w/ 2869 levels \"\",\"G33 1SA\",\"G33 1SZ\",..: 2137 2137 2137 2137 2137 2137 2137 2137 2137 2274 ...\n"
     ]
    }
   ],
   "source": [
    "str(EastDunExplore)"
   ]
  },
  {
   "cell_type": "code",
   "execution_count": null,
   "metadata": {
    "collapsed": true
   },
   "outputs": [],
   "source": [
    "# You can see from the str() output that there are 50,417 total rows of data and 21 variables. \n",
    "# You can also see that there are 3630 different first names in the data"
   ]
  },
  {
   "cell_type": "code",
   "execution_count": 15,
   "metadata": {
    "collapsed": false
   },
   "outputs": [
    {
     "name": "stderr",
     "output_type": "stream",
     "text": [
      "Updating HTML index of packages in '.Library'\n",
      "Making 'packages.html' ... done\n"
     ]
    }
   ],
   "source": [
    "install.packages('plyr')"
   ]
  },
  {
   "cell_type": "code",
   "execution_count": 16,
   "metadata": {
    "collapsed": true
   },
   "outputs": [],
   "source": [
    "library(plyr)"
   ]
  },
  {
   "cell_type": "code",
   "execution_count": 41,
   "metadata": {
    "collapsed": true
   },
   "outputs": [],
   "source": [
    "# Subset the NameFreq data-frame to get a new data-frame that only contains First names that occur more than 200 times\n",
    "FirstName200 <- subset(NameFreq, NameFreq$freq > 200)"
   ]
  },
  {
   "cell_type": "code",
   "execution_count": 42,
   "metadata": {
    "collapsed": false
   },
   "outputs": [
    {
     "name": "stdout",
     "output_type": "stream",
     "text": [
      "'data.frame':\t59 obs. of  2 variables:\n",
      " $ First.Name: Factor w/ 3630 levels \"Aaron\",\"Aarti\",..: 51 91 112 139 222 233 253 268 490 579 ...\n",
      " $ freq      : int  266 409 393 258 669 206 246 505 328 549 ...\n"
     ]
    }
   ],
   "source": [
    "str(FirstName200)"
   ]
  },
  {
   "cell_type": "code",
   "execution_count": 43,
   "metadata": {
    "collapsed": false
   },
   "outputs": [
    {
     "name": "stderr",
     "output_type": "stream",
     "text": [
      "Using freq as weighting variable\n"
     ]
    },
    {
     "data": {
      "text/html": [
       "<table>\n",
       "<thead><tr><th></th><th scope=col>First.Name</th><th scope=col>freq</th></tr></thead>\n",
       "<tbody>\n",
       "\t<tr><th scope=row>34</th><td>John       </td><td>1710       </td></tr>\n",
       "\t<tr><th scope=row>29</th><td>James      </td><td>1421       </td></tr>\n",
       "\t<tr><th scope=row>16</th><td>David      </td><td>1237       </td></tr>\n",
       "\t<tr><th scope=row>40</th><td>Margaret   </td><td>1228       </td></tr>\n",
       "\t<tr><th scope=row>59</th><td>William    </td><td> 974       </td></tr>\n",
       "\t<tr><th scope=row>50</th><td>Robert     </td><td> 866       </td></tr>\n",
       "\t<tr><th scope=row>19</th><td>Elizabeth  </td><td> 841       </td></tr>\n",
       "\t<tr><th scope=row>43</th><td>Mary       </td><td> 781       </td></tr>\n",
       "\t<tr><th scope=row>5</th><td>Andrew     </td><td> 669       </td></tr>\n",
       "\t<tr><th scope=row>58</th><td>Thomas     </td><td> 588       </td></tr>\n",
       "\t<tr><th scope=row>10</th><td>Catherine  </td><td> 549       </td></tr>\n",
       "\t<tr><th scope=row>8</th><td>Anne       </td><td> 505       </td></tr>\n",
       "\t<tr><th scope=row>24</th><td>Helen      </td><td> 450       </td></tr>\n",
       "\t<tr><th scope=row>26</th><td>Ian        </td><td> 435       </td></tr>\n",
       "\t<tr><th scope=row>45</th><td>Michael    </td><td> 419       </td></tr>\n",
       "\t<tr><th scope=row>48</th><td>Paul       </td><td> 414       </td></tr>\n",
       "\t<tr><th scope=row>2</th><td>Alan       </td><td> 409       </td></tr>\n",
       "\t<tr><th scope=row>54</th><td>Stephen    </td><td> 394       </td></tr>\n",
       "\t<tr><th scope=row>3</th><td>Alexander  </td><td> 393       </td></tr>\n",
       "\t<tr><th scope=row>21</th><td>George     </td><td> 387       </td></tr>\n",
       "\t<tr><th scope=row>49</th><td>Peter      </td><td> 368       </td></tr>\n",
       "\t<tr><th scope=row>23</th><td>Gordon     </td><td> 359       </td></tr>\n",
       "\t<tr><th scope=row>32</th><td>Jean       </td><td> 357       </td></tr>\n",
       "\t<tr><th scope=row>20</th><td>Fiona      </td><td> 337       </td></tr>\n",
       "\t<tr><th scope=row>39</th><td>Linda      </td><td> 329       </td></tr>\n",
       "\t<tr><th scope=row>9</th><td>Brian      </td><td> 328       </td></tr>\n",
       "\t<tr><th scope=row>36</th><td>Karen      </td><td> 315       </td></tr>\n",
       "\t<tr><th scope=row>47</th><td>Patricia   </td><td> 308       </td></tr>\n",
       "\t<tr><th scope=row>41</th><td>Mark       </td><td> 303       </td></tr>\n",
       "\t<tr><th scope=row>56</th><td>Stuart     </td><td> 294       </td></tr>\n",
       "\t<tr><th scope=row>57</th><td>Susan      </td><td> 294       </td></tr>\n",
       "\t<tr><th scope=row>11</th><td>Christine  </td><td> 291       </td></tr>\n",
       "\t<tr><th scope=row>37</th><td>Kenneth    </td><td> 288       </td></tr>\n",
       "\t<tr><th scope=row>28</th><td>Jacqueline </td><td> 279       </td></tr>\n",
       "\t<tr><th scope=row>22</th><td>Gillian    </td><td> 277       </td></tr>\n",
       "\t<tr><th scope=row>53</th><td>Scott      </td><td> 276       </td></tr>\n",
       "\t<tr><th scope=row>33</th><td>Jennifer   </td><td> 270       </td></tr>\n",
       "\t<tr><th scope=row>1</th><td>Agnes      </td><td> 266       </td></tr>\n",
       "\t<tr><th scope=row>15</th><td>Craig      </td><td> 266       </td></tr>\n",
       "\t<tr><th scope=row>14</th><td>Colin      </td><td> 265       </td></tr>\n",
       "\t<tr><th scope=row>38</th><td>Laura      </td><td> 262       </td></tr>\n",
       "\t<tr><th scope=row>12</th><td>Christopher</td><td> 259       </td></tr>\n",
       "\t<tr><th scope=row>4</th><td>Alison     </td><td> 258       </td></tr>\n",
       "\t<tr><th scope=row>18</th><td>Elaine     </td><td> 249       </td></tr>\n",
       "\t<tr><th scope=row>7</th><td>Ann        </td><td> 246       </td></tr>\n",
       "\t<tr><th scope=row>27</th><td>Irene      </td><td> 242       </td></tr>\n",
       "\t<tr><th scope=row>42</th><td>Martin     </td><td> 241       </td></tr>\n",
       "\t<tr><th scope=row>17</th><td>Douglas    </td><td> 235       </td></tr>\n",
       "\t<tr><th scope=row>44</th><td>Maureen    </td><td> 232       </td></tr>\n",
       "\t<tr><th scope=row>30</th><td>Jane       </td><td> 228       </td></tr>\n",
       "\t<tr><th scope=row>25</th><td>Iain       </td><td> 222       </td></tr>\n",
       "\t<tr><th scope=row>35</th><td>Joseph     </td><td> 216       </td></tr>\n",
       "\t<tr><th scope=row>31</th><td>Janet      </td><td> 214       </td></tr>\n",
       "\t<tr><th scope=row>55</th><td>Steven     </td><td> 214       </td></tr>\n",
       "\t<tr><th scope=row>46</th><td>Nicola     </td><td> 209       </td></tr>\n",
       "\t<tr><th scope=row>52</th><td>Sarah      </td><td> 208       </td></tr>\n",
       "\t<tr><th scope=row>6</th><td>Angela     </td><td> 206       </td></tr>\n",
       "\t<tr><th scope=row>13</th><td>Claire     </td><td> 204       </td></tr>\n",
       "\t<tr><th scope=row>51</th><td>Ross       </td><td> 202       </td></tr>\n",
       "</tbody>\n",
       "</table>\n"
      ],
      "text/latex": [
       "\\begin{tabular}{r|ll}\n",
       "  & First.Name & freq\\\\\n",
       "\\hline\n",
       "\t34 & John        & 1710       \\\\\n",
       "\t29 & James       & 1421       \\\\\n",
       "\t16 & David       & 1237       \\\\\n",
       "\t40 & Margaret    & 1228       \\\\\n",
       "\t59 & William     &  974       \\\\\n",
       "\t50 & Robert      &  866       \\\\\n",
       "\t19 & Elizabeth   &  841       \\\\\n",
       "\t43 & Mary        &  781       \\\\\n",
       "\t5 & Andrew      &  669       \\\\\n",
       "\t58 & Thomas      &  588       \\\\\n",
       "\t10 & Catherine   &  549       \\\\\n",
       "\t8 & Anne        &  505       \\\\\n",
       "\t24 & Helen       &  450       \\\\\n",
       "\t26 & Ian         &  435       \\\\\n",
       "\t45 & Michael     &  419       \\\\\n",
       "\t48 & Paul        &  414       \\\\\n",
       "\t2 & Alan        &  409       \\\\\n",
       "\t54 & Stephen     &  394       \\\\\n",
       "\t3 & Alexander   &  393       \\\\\n",
       "\t21 & George      &  387       \\\\\n",
       "\t49 & Peter       &  368       \\\\\n",
       "\t23 & Gordon      &  359       \\\\\n",
       "\t32 & Jean        &  357       \\\\\n",
       "\t20 & Fiona       &  337       \\\\\n",
       "\t39 & Linda       &  329       \\\\\n",
       "\t9 & Brian       &  328       \\\\\n",
       "\t36 & Karen       &  315       \\\\\n",
       "\t47 & Patricia    &  308       \\\\\n",
       "\t41 & Mark        &  303       \\\\\n",
       "\t56 & Stuart      &  294       \\\\\n",
       "\t57 & Susan       &  294       \\\\\n",
       "\t11 & Christine   &  291       \\\\\n",
       "\t37 & Kenneth     &  288       \\\\\n",
       "\t28 & Jacqueline  &  279       \\\\\n",
       "\t22 & Gillian     &  277       \\\\\n",
       "\t53 & Scott       &  276       \\\\\n",
       "\t33 & Jennifer    &  270       \\\\\n",
       "\t1 & Agnes       &  266       \\\\\n",
       "\t15 & Craig       &  266       \\\\\n",
       "\t14 & Colin       &  265       \\\\\n",
       "\t38 & Laura       &  262       \\\\\n",
       "\t12 & Christopher &  259       \\\\\n",
       "\t4 & Alison      &  258       \\\\\n",
       "\t18 & Elaine      &  249       \\\\\n",
       "\t7 & Ann         &  246       \\\\\n",
       "\t27 & Irene       &  242       \\\\\n",
       "\t42 & Martin      &  241       \\\\\n",
       "\t17 & Douglas     &  235       \\\\\n",
       "\t44 & Maureen     &  232       \\\\\n",
       "\t30 & Jane        &  228       \\\\\n",
       "\t25 & Iain        &  222       \\\\\n",
       "\t35 & Joseph      &  216       \\\\\n",
       "\t31 & Janet       &  214       \\\\\n",
       "\t55 & Steven      &  214       \\\\\n",
       "\t46 & Nicola      &  209       \\\\\n",
       "\t52 & Sarah       &  208       \\\\\n",
       "\t6 & Angela      &  206       \\\\\n",
       "\t13 & Claire      &  204       \\\\\n",
       "\t51 & Ross        &  202       \\\\\n",
       "\\end{tabular}\n"
      ],
      "text/markdown": [
       "\n",
       "| <!--/--> | First.Name | freq | \n",
       "|---|---|---|---|---|---|---|---|---|---|---|---|---|---|---|---|---|---|---|---|---|---|---|---|---|---|---|---|---|---|---|---|---|---|---|---|---|---|---|---|---|---|---|---|---|---|---|---|---|---|---|---|---|---|---|---|---|---|---|\n",
       "| 34 | John        | 1710        | \n",
       "| 29 | James       | 1421        | \n",
       "| 16 | David       | 1237        | \n",
       "| 40 | Margaret    | 1228        | \n",
       "| 59 | William     |  974        | \n",
       "| 50 | Robert      |  866        | \n",
       "| 19 | Elizabeth   |  841        | \n",
       "| 43 | Mary        |  781        | \n",
       "| 5 | Andrew      |  669        | \n",
       "| 58 | Thomas      |  588        | \n",
       "| 10 | Catherine   |  549        | \n",
       "| 8 | Anne        |  505        | \n",
       "| 24 | Helen       |  450        | \n",
       "| 26 | Ian         |  435        | \n",
       "| 45 | Michael     |  419        | \n",
       "| 48 | Paul        |  414        | \n",
       "| 2 | Alan        |  409        | \n",
       "| 54 | Stephen     |  394        | \n",
       "| 3 | Alexander   |  393        | \n",
       "| 21 | George      |  387        | \n",
       "| 49 | Peter       |  368        | \n",
       "| 23 | Gordon      |  359        | \n",
       "| 32 | Jean        |  357        | \n",
       "| 20 | Fiona       |  337        | \n",
       "| 39 | Linda       |  329        | \n",
       "| 9 | Brian       |  328        | \n",
       "| 36 | Karen       |  315        | \n",
       "| 47 | Patricia    |  308        | \n",
       "| 41 | Mark        |  303        | \n",
       "| 56 | Stuart      |  294        | \n",
       "| 57 | Susan       |  294        | \n",
       "| 11 | Christine   |  291        | \n",
       "| 37 | Kenneth     |  288        | \n",
       "| 28 | Jacqueline  |  279        | \n",
       "| 22 | Gillian     |  277        | \n",
       "| 53 | Scott       |  276        | \n",
       "| 33 | Jennifer    |  270        | \n",
       "| 1 | Agnes       |  266        | \n",
       "| 15 | Craig       |  266        | \n",
       "| 14 | Colin       |  265        | \n",
       "| 38 | Laura       |  262        | \n",
       "| 12 | Christopher |  259        | \n",
       "| 4 | Alison      |  258        | \n",
       "| 18 | Elaine      |  249        | \n",
       "| 7 | Ann         |  246        | \n",
       "| 27 | Irene       |  242        | \n",
       "| 42 | Martin      |  241        | \n",
       "| 17 | Douglas     |  235        | \n",
       "| 44 | Maureen     |  232        | \n",
       "| 30 | Jane        |  228        | \n",
       "| 25 | Iain        |  222        | \n",
       "| 35 | Joseph      |  216        | \n",
       "| 31 | Janet       |  214        | \n",
       "| 55 | Steven      |  214        | \n",
       "| 46 | Nicola      |  209        | \n",
       "| 52 | Sarah       |  208        | \n",
       "| 6 | Angela      |  206        | \n",
       "| 13 | Claire      |  204        | \n",
       "| 51 | Ross        |  202        | \n",
       "\n",
       "\n"
      ],
      "text/plain": [
       "   First.Name  freq\n",
       "34 John        1710\n",
       "29 James       1421\n",
       "16 David       1237\n",
       "40 Margaret    1228\n",
       "59 William      974\n",
       "50 Robert       866\n",
       "19 Elizabeth    841\n",
       "43 Mary         781\n",
       "5  Andrew       669\n",
       "58 Thomas       588\n",
       "10 Catherine    549\n",
       "8  Anne         505\n",
       "24 Helen        450\n",
       "26 Ian          435\n",
       "45 Michael      419\n",
       "48 Paul         414\n",
       "2  Alan         409\n",
       "54 Stephen      394\n",
       "3  Alexander    393\n",
       "21 George       387\n",
       "49 Peter        368\n",
       "23 Gordon       359\n",
       "32 Jean         357\n",
       "20 Fiona        337\n",
       "39 Linda        329\n",
       "9  Brian        328\n",
       "36 Karen        315\n",
       "47 Patricia     308\n",
       "41 Mark         303\n",
       "56 Stuart       294\n",
       "57 Susan        294\n",
       "11 Christine    291\n",
       "37 Kenneth      288\n",
       "28 Jacqueline   279\n",
       "22 Gillian      277\n",
       "53 Scott        276\n",
       "33 Jennifer     270\n",
       "1  Agnes        266\n",
       "15 Craig        266\n",
       "14 Colin        265\n",
       "38 Laura        262\n",
       "12 Christopher  259\n",
       "4  Alison       258\n",
       "18 Elaine       249\n",
       "7  Ann          246\n",
       "27 Irene        242\n",
       "42 Martin       241\n",
       "17 Douglas      235\n",
       "44 Maureen      232\n",
       "30 Jane         228\n",
       "25 Iain         222\n",
       "35 Joseph       216\n",
       "31 Janet        214\n",
       "55 Steven       214\n",
       "46 Nicola       209\n",
       "52 Sarah        208\n",
       "6  Angela       206\n",
       "13 Claire       204\n",
       "51 Ross         202"
      ]
     },
     "metadata": {},
     "output_type": "display_data"
    }
   ],
   "source": [
    "# Produce a table of First Names and Frequency so that I can get a list of the most popular names. \n",
    "MostPopular <- count(FirstName200, 'First.Name')\n",
    "MostPopular[order(MostPopular$freq, decreasing=TRUE), ]"
   ]
  },
  {
   "cell_type": "code",
   "execution_count": null,
   "metadata": {
    "collapsed": true
   },
   "outputs": [],
   "source": [
    "# Insert \"Male\" or \"Female\" or \"?\" as the value for the variable \"Sex\" in the original data-base for the most popular names\n",
    "# Note: A \"?\" means either that it is unknown whether the name is male or female OR that the name is used for both sexes. "
   ]
  },
  {
   "cell_type": "code",
   "execution_count": 44,
   "metadata": {
    "collapsed": true
   },
   "outputs": [],
   "source": [
    "EastDunExplore$Sex[EastDunExplore$First.Name==\"John\"]<-\"Male\"\n",
    "EastDunExplore$Sex[EastDunExplore$First.Name==\"James\"]<-\"Male\"\n",
    "EastDunExplore$Sex[EastDunExplore$First.Name==\"David\"]<-\"Male\"\n",
    "EastDunExplore$Sex[EastDunExplore$First.Name==\"Margaret\"]<-\"Female\"\n",
    "EastDunExplore$Sex[EastDunExplore$First.Name==\"William\"]<-\"Male\"\n",
    "EastDunExplore$Sex[EastDunExplore$First.Name==\"Robert\"]<-\"Male\"\n",
    "EastDunExplore$Sex[EastDunExplore$First.Name==\"Elizabeth\"]<-\"Female\"\n",
    "EastDunExplore$Sex[EastDunExplore$First.Name==\"Mary\"]<-\"Female\"\n",
    "EastDunExplore$Sex[EastDunExplore$First.Name==\"Andrew\"]<-\"Male\"\n",
    "EastDunExplore$Sex[EastDunExplore$First.Name==\"Thomas\"]<-\"Male\"\n",
    "EastDunExplore$Sex[EastDunExplore$First.Name==\"Catherine\"]<-\"Female\"\n",
    "EastDunExplore$Sex[EastDunExplore$First.Name==\"Anne\"]<-\"Female\"\n",
    "EastDunExplore$Sex[EastDunExplore$First.Name==\"Helen\"]<-\"Female\"\n",
    "EastDunExplore$Sex[EastDunExplore$First.Name==\"Ian\"]<-\"Male\"\n",
    "EastDunExplore$Sex[EastDunExplore$First.Name==\"Michael\"]<-\"Male\"\n",
    "EastDunExplore$Sex[EastDunExplore$First.Name==\"Paul\"]<-\"Male\"\n",
    "EastDunExplore$Sex[EastDunExplore$First.Name==\"Alan\"]<-\"Male\"\n",
    "EastDunExplore$Sex[EastDunExplore$First.Name==\"Stephen\"]<-\"Male\"\n",
    "EastDunExplore$Sex[EastDunExplore$First.Name==\"Alexander\"]<-\"Male\"\n",
    "EastDunExplore$Sex[EastDunExplore$First.Name==\"George\"]<-\"Male\"\n",
    "EastDunExplore$Sex[EastDunExplore$First.Name==\"Peter\"]<-\"Male\"\n",
    "EastDunExplore$Sex[EastDunExplore$First.Name==\"Gordon\"]<-\"Male\"\n",
    "EastDunExplore$Sex[EastDunExplore$First.Name==\"Jean\"]<-\"Female\"\n",
    "EastDunExplore$Sex[EastDunExplore$First.Name==\"Fiona\"]<-\"Female\"\n",
    "EastDunExplore$Sex[EastDunExplore$First.Name==\"Linda\"]<-\"Female\"\n",
    "EastDunExplore$Sex[EastDunExplore$First.Name==\"Brian\"]<-\"Male\"\n",
    "EastDunExplore$Sex[EastDunExplore$First.Name==\"Karen\"]<-\"Female\"\n",
    "EastDunExplore$Sex[EastDunExplore$First.Name==\"Mark\"]<-\"Male\"\n",
    "EastDunExplore$Sex[EastDunExplore$First.Name==\"Stuart\"]<-\"Female\"\n",
    "EastDunExplore$Sex[EastDunExplore$First.Name==\"Susan\"]<-\"Female\"\n",
    "EastDunExplore$Sex[EastDunExplore$First.Name==\"Christine\"]<-\"Female\"\n",
    "EastDunExplore$Sex[EastDunExplore$First.Name==\"Kenneth\"]<-\"Male\"\n",
    "EastDunExplore$Sex[EastDunExplore$First.Name==\"Jacqueline\"]<-\"Female\"\n",
    "EastDunExplore$Sex[EastDunExplore$First.Name==\"Gillian\"]<-\"Female\"\n",
    "EastDunExplore$Sex[EastDunExplore$First.Name==\"Scott\"]<-\"Male\"\n",
    "EastDunExplore$Sex[EastDunExplore$First.Name==\"Jennifer\"]<-\"Female\"\n",
    "EastDunExplore$Sex[EastDunExplore$First.Name==\"Agnes\"]<-\"Female\"\n",
    "EastDunExplore$Sex[EastDunExplore$First.Name==\"Craig\"]<-\"Male\"\n",
    "EastDunExplore$Sex[EastDunExplore$First.Name==\"Colin\"]<-\"Male\"\n",
    "EastDunExplore$Sex[EastDunExplore$First.Name==\"Laura\"]<-\"Female\"\n",
    "EastDunExplore$Sex[EastDunExplore$First.Name==\"Christopher\"]<-\"Male\"\n",
    "EastDunExplore$Sex[EastDunExplore$First.Name==\"Alison\"]<-\"Female\"\n",
    "EastDunExplore$Sex[EastDunExplore$First.Name==\"Elaine\"]<-\"Female\"\n",
    "EastDunExplore$Sex[EastDunExplore$First.Name==\"Ann\"]<-\"Female\"\n",
    "EastDunExplore$Sex[EastDunExplore$First.Name==\"Irene\"]<-\"Female\"\n",
    "EastDunExplore$Sex[EastDunExplore$First.Name==\"Martin\"]<-\"Male\"\n",
    "EastDunExplore$Sex[EastDunExplore$First.Name==\"Douglas\"]<-\"Male\"\n",
    "EastDunExplore$Sex[EastDunExplore$First.Name==\"Maureen\"]<-\"Female\"\n",
    "EastDunExplore$Sex[EastDunExplore$First.Name==\"Jane\"]<-\"Female\"\n",
    "EastDunExplore$Sex[EastDunExplore$First.Name==\"Iain\"]<-\"Male\"\n",
    "EastDunExplore$Sex[EastDunExplore$First.Name==\"Joseph\"]<-\"Male\"\n",
    "EastDunExplore$Sex[EastDunExplore$First.Name==\"Janet\"]<-\"Female\"\n",
    "EastDunExplore$Sex[EastDunExplore$First.Name==\"Steven\"]<-\"Male\"\n",
    "EastDunExplore$Sex[EastDunExplore$First.Name==\"Nicola\"]<-\"Female\"\n",
    "EastDunExplore$Sex[EastDunExplore$First.Name==\"Sarah\"]<-\"Female\"\n",
    "EastDunExplore$Sex[EastDunExplore$First.Name==\"Angela\"]<-\"Female\"\n",
    "EastDunExplore$Sex[EastDunExplore$First.Name==\"Claire\"]<-\"Female\"\n",
    "EastDunExplore$Sex[EastDunExplore$First.Name==\"Ross\"]<-\"Male\""
   ]
  },
  {
   "cell_type": "code",
   "execution_count": 45,
   "metadata": {
    "collapsed": false
   },
   "outputs": [
    {
     "data": {
      "text/html": [
       "<dl class=dl-horizontal>\n",
       "\t<dt>1</dt>\n",
       "\t\t<dd>25516</dd>\n",
       "\t<dt>Female</dt>\n",
       "\t\t<dd>10507</dd>\n",
       "\t<dt>Male</dt>\n",
       "\t\t<dd>14394</dd>\n",
       "</dl>\n"
      ],
      "text/latex": [
       "\\begin{description*}\n",
       "\\item[1] 25516\n",
       "\\item[Female] 10507\n",
       "\\item[Male] 14394\n",
       "\\end{description*}\n"
      ],
      "text/markdown": [
       "1\n",
       ":   25516Female\n",
       ":   10507Male\n",
       ":   14394\n",
       "\n"
      ],
      "text/plain": [
       "       Female   Male \n",
       " 25516  10507  14394 "
      ]
     },
     "metadata": {},
     "output_type": "display_data"
    }
   ],
   "source": [
    "# To get a summary of how many rows now have a value for Sex\n",
    "# 1 represents a blank cell\n",
    "summary(EastDunExplore$Sex)"
   ]
  },
  {
   "cell_type": "code",
   "execution_count": 52,
   "metadata": {
    "collapsed": false
   },
   "outputs": [
    {
     "name": "stdout",
     "output_type": "stream",
     "text": [
      "'data.frame':\t58 obs. of  2 variables:\n",
      " $ First.Name: Factor w/ 3630 levels \"Aaron\",\"Aarti\",..: 62 142 149 170 285 411 547 558 613 650 ...\n",
      " $ freq      : int  106 119 176 107 115 119 195 171 179 112 ...\n"
     ]
    }
   ],
   "source": [
    "# From above 25,516 rows are still blank so need to do more of the above. \n",
    "# Subset the NameFreq data-frame to get a new data-frame that only contains First names that occur more between 150-200 times\n",
    "FirstName100_200 <- subset(NameFreq, NameFreq$freq > 100 & NameFreq$freq < 200)\n",
    "str(FirstName100_200)"
   ]
  },
  {
   "cell_type": "code",
   "execution_count": 140,
   "metadata": {
    "collapsed": false
   },
   "outputs": [
    {
     "name": "stderr",
     "output_type": "stream",
     "text": [
      "Using freq as weighting variable\n"
     ]
    },
    {
     "data": {
      "text/html": [
       "<table>\n",
       "<thead><tr><th></th><th scope=col>First.Name</th><th scope=col>freq</th></tr></thead>\n",
       "<tbody>\n",
       "\t<tr><th scope=row>36</th><td>Lesley   </td><td>199      </td></tr>\n",
       "\t<tr><th scope=row>53</th><td>Richard  </td><td>196      </td></tr>\n",
       "\t<tr><th scope=row>7</th><td>Carol    </td><td>195      </td></tr>\n",
       "\t<tr><th scope=row>21</th><td>Gary     </td><td>192      </td></tr>\n",
       "\t<tr><th scope=row>33</th><td>Kathleen </td><td>192      </td></tr>\n",
       "\t<tr><th scope=row>9</th><td>Charles  </td><td>179      </td></tr>\n",
       "\t<tr><th scope=row>3</th><td>Allan    </td><td>176      </td></tr>\n",
       "\t<tr><th scope=row>32</th><td>Julie    </td><td>174      </td></tr>\n",
       "\t<tr><th scope=row>24</th><td>Graham   </td><td>173      </td></tr>\n",
       "\t<tr><th scope=row>8</th><td>Caroline </td><td>171      </td></tr>\n",
       "\t<tr><th scope=row>11</th><td>Daniel   </td><td>170      </td></tr>\n",
       "\t<tr><th scope=row>14</th><td>Donald   </td><td>170      </td></tr>\n",
       "\t<tr><th scope=row>43</th><td>Marion   </td><td>167      </td></tr>\n",
       "\t<tr><th scope=row>34</th><td>Kevin    </td><td>163      </td></tr>\n",
       "\t<tr><th scope=row>54</th><td>Ronald   </td><td>162      </td></tr>\n",
       "\t<tr><th scope=row>17</th><td>Emma     </td><td>161      </td></tr>\n",
       "\t<tr><th scope=row>55</th><td>Sharon   </td><td>161      </td></tr>\n",
       "\t<tr><th scope=row>15</th><td>Edward   </td><td>160      </td></tr>\n",
       "\t<tr><th scope=row>23</th><td>Graeme   </td><td>156      </td></tr>\n",
       "\t<tr><th scope=row>48</th><td>Neil     </td><td>156      </td></tr>\n",
       "\t<tr><th scope=row>25</th><td>Heather  </td><td>154      </td></tr>\n",
       "\t<tr><th scope=row>39</th><td>Lorraine </td><td>153      </td></tr>\n",
       "\t<tr><th scope=row>56</th><td>Sheila   </td><td>153      </td></tr>\n",
       "\t<tr><th scope=row>28</th><td>Janice   </td><td>150      </td></tr>\n",
       "\t<tr><th scope=row>40</th><td>Louise   </td><td>149      </td></tr>\n",
       "\t<tr><th scope=row>38</th><td>Lorna    </td><td>145      </td></tr>\n",
       "\t<tr><th scope=row>13</th><td>Derek    </td><td>144      </td></tr>\n",
       "\t<tr><th scope=row>26</th><td>Hugh     </td><td>138      </td></tr>\n",
       "\t<tr><th scope=row>41</th><td>Lynn     </td><td>137      </td></tr>\n",
       "\t<tr><th scope=row>44</th><td>Matthew  </td><td>136      </td></tr>\n",
       "\t<tr><th scope=row>29</th><td>Joan     </td><td>135      </td></tr>\n",
       "\t<tr><th scope=row>57</th><td>Stewart  </td><td>135      </td></tr>\n",
       "\t<tr><th scope=row>16</th><td>Eileen   </td><td>131      </td></tr>\n",
       "\t<tr><th scope=row>46</th><td>Moira    </td><td>131      </td></tr>\n",
       "\t<tr><th scope=row>51</th><td>Pauline  </td><td>131      </td></tr>\n",
       "\t<tr><th scope=row>45</th><td>Michelle </td><td>130      </td></tr>\n",
       "\t<tr><th scope=row>27</th><td>Isobel   </td><td>129      </td></tr>\n",
       "\t<tr><th scope=row>49</th><td>Pamela   </td><td>126      </td></tr>\n",
       "\t<tr><th scope=row>37</th><td>Lisa     </td><td>124      </td></tr>\n",
       "\t<tr><th scope=row>35</th><td>Kirsty   </td><td>123      </td></tr>\n",
       "\t<tr><th scope=row>50</th><td>Patrick  </td><td>123      </td></tr>\n",
       "\t<tr><th scope=row>2</th><td>Alistair </td><td>119      </td></tr>\n",
       "\t<tr><th scope=row>6</th><td>Barbara  </td><td>119      </td></tr>\n",
       "\t<tr><th scope=row>5</th><td>Anthony  </td><td>115      </td></tr>\n",
       "\t<tr><th scope=row>52</th><td>Rachel   </td><td>115      </td></tr>\n",
       "\t<tr><th scope=row>18</th><td>Frances  </td><td>113      </td></tr>\n",
       "\t<tr><th scope=row>42</th><td>Marie    </td><td>113      </td></tr>\n",
       "\t<tr><th scope=row>10</th><td>Christina</td><td>112      </td></tr>\n",
       "\t<tr><th scope=row>47</th><td>Morag    </td><td>112      </td></tr>\n",
       "\t<tr><th scope=row>58</th><td>Yvonne   </td><td>112      </td></tr>\n",
       "\t<tr><th scope=row>22</th><td>Gerard   </td><td>110      </td></tr>\n",
       "\t<tr><th scope=row>4</th><td>Amanda   </td><td>107      </td></tr>\n",
       "\t<tr><th scope=row>31</th><td>Joyce    </td><td>107      </td></tr>\n",
       "\t<tr><th scope=row>1</th><td>Aileen   </td><td>106      </td></tr>\n",
       "\t<tr><th scope=row>30</th><td>Joanne   </td><td>105      </td></tr>\n",
       "\t<tr><th scope=row>19</th><td>Francis  </td><td>104      </td></tr>\n",
       "\t<tr><th scope=row>20</th><td>Fraser   </td><td>104      </td></tr>\n",
       "\t<tr><th scope=row>12</th><td>Deborah  </td><td>102      </td></tr>\n",
       "</tbody>\n",
       "</table>\n"
      ],
      "text/latex": [
       "\\begin{tabular}{r|ll}\n",
       "  & First.Name & freq\\\\\n",
       "\\hline\n",
       "\t36 & Lesley    & 199      \\\\\n",
       "\t53 & Richard   & 196      \\\\\n",
       "\t7 & Carol     & 195      \\\\\n",
       "\t21 & Gary      & 192      \\\\\n",
       "\t33 & Kathleen  & 192      \\\\\n",
       "\t9 & Charles   & 179      \\\\\n",
       "\t3 & Allan     & 176      \\\\\n",
       "\t32 & Julie     & 174      \\\\\n",
       "\t24 & Graham    & 173      \\\\\n",
       "\t8 & Caroline  & 171      \\\\\n",
       "\t11 & Daniel    & 170      \\\\\n",
       "\t14 & Donald    & 170      \\\\\n",
       "\t43 & Marion    & 167      \\\\\n",
       "\t34 & Kevin     & 163      \\\\\n",
       "\t54 & Ronald    & 162      \\\\\n",
       "\t17 & Emma      & 161      \\\\\n",
       "\t55 & Sharon    & 161      \\\\\n",
       "\t15 & Edward    & 160      \\\\\n",
       "\t23 & Graeme    & 156      \\\\\n",
       "\t48 & Neil      & 156      \\\\\n",
       "\t25 & Heather   & 154      \\\\\n",
       "\t39 & Lorraine  & 153      \\\\\n",
       "\t56 & Sheila    & 153      \\\\\n",
       "\t28 & Janice    & 150      \\\\\n",
       "\t40 & Louise    & 149      \\\\\n",
       "\t38 & Lorna     & 145      \\\\\n",
       "\t13 & Derek     & 144      \\\\\n",
       "\t26 & Hugh      & 138      \\\\\n",
       "\t41 & Lynn      & 137      \\\\\n",
       "\t44 & Matthew   & 136      \\\\\n",
       "\t29 & Joan      & 135      \\\\\n",
       "\t57 & Stewart   & 135      \\\\\n",
       "\t16 & Eileen    & 131      \\\\\n",
       "\t46 & Moira     & 131      \\\\\n",
       "\t51 & Pauline   & 131      \\\\\n",
       "\t45 & Michelle  & 130      \\\\\n",
       "\t27 & Isobel    & 129      \\\\\n",
       "\t49 & Pamela    & 126      \\\\\n",
       "\t37 & Lisa      & 124      \\\\\n",
       "\t35 & Kirsty    & 123      \\\\\n",
       "\t50 & Patrick   & 123      \\\\\n",
       "\t2 & Alistair  & 119      \\\\\n",
       "\t6 & Barbara   & 119      \\\\\n",
       "\t5 & Anthony   & 115      \\\\\n",
       "\t52 & Rachel    & 115      \\\\\n",
       "\t18 & Frances   & 113      \\\\\n",
       "\t42 & Marie     & 113      \\\\\n",
       "\t10 & Christina & 112      \\\\\n",
       "\t47 & Morag     & 112      \\\\\n",
       "\t58 & Yvonne    & 112      \\\\\n",
       "\t22 & Gerard    & 110      \\\\\n",
       "\t4 & Amanda    & 107      \\\\\n",
       "\t31 & Joyce     & 107      \\\\\n",
       "\t1 & Aileen    & 106      \\\\\n",
       "\t30 & Joanne    & 105      \\\\\n",
       "\t19 & Francis   & 104      \\\\\n",
       "\t20 & Fraser    & 104      \\\\\n",
       "\t12 & Deborah   & 102      \\\\\n",
       "\\end{tabular}\n"
      ],
      "text/markdown": [
       "\n",
       "| <!--/--> | First.Name | freq | \n",
       "|---|---|---|---|---|---|---|---|---|---|---|---|---|---|---|---|---|---|---|---|---|---|---|---|---|---|---|---|---|---|---|---|---|---|---|---|---|---|---|---|---|---|---|---|---|---|---|---|---|---|---|---|---|---|---|---|---|---|\n",
       "| 36 | Lesley    | 199       | \n",
       "| 53 | Richard   | 196       | \n",
       "| 7 | Carol     | 195       | \n",
       "| 21 | Gary      | 192       | \n",
       "| 33 | Kathleen  | 192       | \n",
       "| 9 | Charles   | 179       | \n",
       "| 3 | Allan     | 176       | \n",
       "| 32 | Julie     | 174       | \n",
       "| 24 | Graham    | 173       | \n",
       "| 8 | Caroline  | 171       | \n",
       "| 11 | Daniel    | 170       | \n",
       "| 14 | Donald    | 170       | \n",
       "| 43 | Marion    | 167       | \n",
       "| 34 | Kevin     | 163       | \n",
       "| 54 | Ronald    | 162       | \n",
       "| 17 | Emma      | 161       | \n",
       "| 55 | Sharon    | 161       | \n",
       "| 15 | Edward    | 160       | \n",
       "| 23 | Graeme    | 156       | \n",
       "| 48 | Neil      | 156       | \n",
       "| 25 | Heather   | 154       | \n",
       "| 39 | Lorraine  | 153       | \n",
       "| 56 | Sheila    | 153       | \n",
       "| 28 | Janice    | 150       | \n",
       "| 40 | Louise    | 149       | \n",
       "| 38 | Lorna     | 145       | \n",
       "| 13 | Derek     | 144       | \n",
       "| 26 | Hugh      | 138       | \n",
       "| 41 | Lynn      | 137       | \n",
       "| 44 | Matthew   | 136       | \n",
       "| 29 | Joan      | 135       | \n",
       "| 57 | Stewart   | 135       | \n",
       "| 16 | Eileen    | 131       | \n",
       "| 46 | Moira     | 131       | \n",
       "| 51 | Pauline   | 131       | \n",
       "| 45 | Michelle  | 130       | \n",
       "| 27 | Isobel    | 129       | \n",
       "| 49 | Pamela    | 126       | \n",
       "| 37 | Lisa      | 124       | \n",
       "| 35 | Kirsty    | 123       | \n",
       "| 50 | Patrick   | 123       | \n",
       "| 2 | Alistair  | 119       | \n",
       "| 6 | Barbara   | 119       | \n",
       "| 5 | Anthony   | 115       | \n",
       "| 52 | Rachel    | 115       | \n",
       "| 18 | Frances   | 113       | \n",
       "| 42 | Marie     | 113       | \n",
       "| 10 | Christina | 112       | \n",
       "| 47 | Morag     | 112       | \n",
       "| 58 | Yvonne    | 112       | \n",
       "| 22 | Gerard    | 110       | \n",
       "| 4 | Amanda    | 107       | \n",
       "| 31 | Joyce     | 107       | \n",
       "| 1 | Aileen    | 106       | \n",
       "| 30 | Joanne    | 105       | \n",
       "| 19 | Francis   | 104       | \n",
       "| 20 | Fraser    | 104       | \n",
       "| 12 | Deborah   | 102       | \n",
       "\n",
       "\n"
      ],
      "text/plain": [
       "   First.Name freq\n",
       "36 Lesley     199 \n",
       "53 Richard    196 \n",
       "7  Carol      195 \n",
       "21 Gary       192 \n",
       "33 Kathleen   192 \n",
       "9  Charles    179 \n",
       "3  Allan      176 \n",
       "32 Julie      174 \n",
       "24 Graham     173 \n",
       "8  Caroline   171 \n",
       "11 Daniel     170 \n",
       "14 Donald     170 \n",
       "43 Marion     167 \n",
       "34 Kevin      163 \n",
       "54 Ronald     162 \n",
       "17 Emma       161 \n",
       "55 Sharon     161 \n",
       "15 Edward     160 \n",
       "23 Graeme     156 \n",
       "48 Neil       156 \n",
       "25 Heather    154 \n",
       "39 Lorraine   153 \n",
       "56 Sheila     153 \n",
       "28 Janice     150 \n",
       "40 Louise     149 \n",
       "38 Lorna      145 \n",
       "13 Derek      144 \n",
       "26 Hugh       138 \n",
       "41 Lynn       137 \n",
       "44 Matthew    136 \n",
       "29 Joan       135 \n",
       "57 Stewart    135 \n",
       "16 Eileen     131 \n",
       "46 Moira      131 \n",
       "51 Pauline    131 \n",
       "45 Michelle   130 \n",
       "27 Isobel     129 \n",
       "49 Pamela     126 \n",
       "37 Lisa       124 \n",
       "35 Kirsty     123 \n",
       "50 Patrick    123 \n",
       "2  Alistair   119 \n",
       "6  Barbara    119 \n",
       "5  Anthony    115 \n",
       "52 Rachel     115 \n",
       "18 Frances    113 \n",
       "42 Marie      113 \n",
       "10 Christina  112 \n",
       "47 Morag      112 \n",
       "58 Yvonne     112 \n",
       "22 Gerard     110 \n",
       "4  Amanda     107 \n",
       "31 Joyce      107 \n",
       "1  Aileen     106 \n",
       "30 Joanne     105 \n",
       "19 Francis    104 \n",
       "20 Fraser     104 \n",
       "12 Deborah    102 "
      ]
     },
     "metadata": {},
     "output_type": "display_data"
    }
   ],
   "source": [
    "MostPopular <- count(FirstName100_200, 'First.Name')\n",
    "MostPopular[order(MostPopular$freq, decreasing=TRUE), ]"
   ]
  },
  {
   "cell_type": "code",
   "execution_count": 141,
   "metadata": {
    "collapsed": false
   },
   "outputs": [
    {
     "name": "stderr",
     "output_type": "stream",
     "text": [
      "Warning message in `[<-.factor`(`*tmp*`, EastDunExplore$First.Name == \"Lesley\", :\n",
      "“invalid factor level, NA generated”"
     ]
    }
   ],
   "source": [
    "EastDunExplore$Sex[EastDunExplore$First.Name==\"Lesley\"]<-\"?\"\n",
    "EastDunExplore$Sex[EastDunExplore$First.Name==\"Richard\"]<-\"Male\"\n",
    "EastDunExplore$Sex[EastDunExplore$First.Name==\"Carol\"]<-\"Female\"\n",
    "EastDunExplore$Sex[EastDunExplore$First.Name==\"Gary\"]<-\"Male\"\n",
    "EastDunExplore$Sex[EastDunExplore$First.Name==\"Kathleen\"]<-\"Female\"\n",
    "# and so on.......\n",
    "# This process was carried out for any names that occurred more than 10 times and left around 4000 names which I manually changed in excel\n",
    "# I looked up the majority of these names http://www.genderchecker.com/\n",
    "# Once the \"Sex\" column data was completely populated I went on to clean-up & Re-format the Address Columns \n",
    "# I fthis process needs to be repeated I can write an functional program for it. "
   ]
  },
  {
   "cell_type": "markdown",
   "metadata": {},
   "source": [
    "CHANGES TO ADDRESS COLUMNS - MIX of EXCEL FUNCTIONS and R"
   ]
  },
  {
   "cell_type": "code",
   "execution_count": null,
   "metadata": {
    "collapsed": true
   },
   "outputs": [],
   "source": [
    "# Original file had the variable \"Address.1\" that contained the first line of the address. This was either a (i) Flat number, (ii) Name of a house (iii) Street name and number\n",
    "# I placed all the Flat Numbers and House Names into a new variable \"Name.Flat\"\n",
    "# I placed all the Street Name and Number in a new variable called \"Street\". These values were either taken from \"Address.1\" or \"Address.2\""
   ]
  },
  {
   "cell_type": "code",
   "execution_count": null,
   "metadata": {
    "collapsed": true
   },
   "outputs": [],
   "source": [
    "# I placed all the data about Town into a new variable \"Town\" . This data was spread out over multiple columns depending on how many other address lines there were. \n",
    "# The Town data was deleted from all other address variables"
   ]
  },
  {
   "cell_type": "code",
   "execution_count": null,
   "metadata": {
    "collapsed": true
   },
   "outputs": [],
   "source": [
    "# Sometimes there was an address line that related to a nearby town. This was usually the case if the address was a small farm or village between 2 larger towns\n",
    "# In these cases I put additional data into the \"Nearby.Town\" variable\n",
    "# I changed all the cases of \"Campsie Glen\" to \"Clachlan of Campsie\" as that is the offical name under East Dunbartonshire boundaries"
   ]
  },
  {
   "cell_type": "code",
   "execution_count": null,
   "metadata": {
    "collapsed": true
   },
   "outputs": [],
   "source": [
    "# I created the variable \"Area\" which in most cases is EAST DUNBARTONSHIRE. The exceptions to this are some addresses that are in the countryside, officially not ED\n",
    "# These outliers are shown as Glasgow\n",
    "# The other exceptions to area are for \"Other Elector\" enteries that I presume are postal votes. "
   ]
  },
  {
   "cell_type": "code",
   "execution_count": null,
   "metadata": {
    "collapsed": true
   },
   "outputs": [],
   "source": [
    "# Note: Ideally I would like to separate the street numbers from the street address but I don't know how to automate this yet and I'm not sure it is useful\n",
    "# This can be done if required using text analytics."
   ]
  },
  {
   "cell_type": "code",
   "execution_count": 57,
   "metadata": {
    "collapsed": true
   },
   "outputs": [],
   "source": [
    "# After all this the new cleaned .csv file can be read back into R for further analysis\n",
    "EastDunbartonshire <- read.csv(\"EastDunbartonshireER.csv\")"
   ]
  },
  {
   "cell_type": "code",
   "execution_count": 58,
   "metadata": {
    "collapsed": false
   },
   "outputs": [
    {
     "data": {
      "text/html": [
       "<dl class=dl-horizontal>\n",
       "\t<dt>?</dt>\n",
       "\t\t<dd>2184</dd>\n",
       "\t<dt>Female</dt>\n",
       "\t\t<dd>25197</dd>\n",
       "\t<dt>Male</dt>\n",
       "\t\t<dd>23036</dd>\n",
       "</dl>\n"
      ],
      "text/latex": [
       "\\begin{description*}\n",
       "\\item[?] 2184\n",
       "\\item[Female] 25197\n",
       "\\item[Male] 23036\n",
       "\\end{description*}\n"
      ],
      "text/markdown": [
       "?\n",
       ":   2184Female\n",
       ":   25197Male\n",
       ":   23036\n",
       "\n"
      ],
      "text/plain": [
       "     ? Female   Male \n",
       "  2184  25197  23036 "
      ]
     },
     "metadata": {},
     "output_type": "display_data"
    }
   ],
   "source": [
    "# This is the final counts for how many Male, Female and Mixed/Unkown (?) cases there are in the data-base\n",
    "summary(EastDunbartonshire$Sex)"
   ]
  },
  {
   "cell_type": "code",
   "execution_count": 59,
   "metadata": {
    "collapsed": false
   },
   "outputs": [
    {
     "data": {
      "text/html": [
       "<dl class=dl-horizontal>\n",
       "\t<dt>AUCHINSTARRY</dt>\n",
       "\t\t<dd>4</dd>\n",
       "\t<dt>BALDERNOCK</dt>\n",
       "\t\t<dd>25</dd>\n",
       "\t<dt>BALMORE</dt>\n",
       "\t\t<dd>152</dd>\n",
       "\t<dt>BARDOWIE</dt>\n",
       "\t\t<dd>63</dd>\n",
       "\t<dt>BEARSDEN</dt>\n",
       "\t\t<dd>12690</dd>\n",
       "\t<dt>BISHOPBRIGGS</dt>\n",
       "\t\t<dd>11360</dd>\n",
       "\t<dt>CLACHAN OF CAMPSIE</dt>\n",
       "\t\t<dd>75</dd>\n",
       "\t<dt>CLYDEBANK</dt>\n",
       "\t\t<dd>11</dd>\n",
       "\t<dt>CROY</dt>\n",
       "\t\t<dd>2</dd>\n",
       "\t<dt>CUMBERNAULD</dt>\n",
       "\t\t<dd>5</dd>\n",
       "\t<dt>HAUGHHEAD</dt>\n",
       "\t\t<dd>7</dd>\n",
       "\t<dt>KIRKINTILLOCH</dt>\n",
       "\t\t<dd>9659</dd>\n",
       "\t<dt>LENNOXTOWN</dt>\n",
       "\t\t<dd>2140</dd>\n",
       "\t<dt>LENZIE</dt>\n",
       "\t\t<dd>4305</dd>\n",
       "\t<dt>MILNGAVIE</dt>\n",
       "\t\t<dd>5996</dd>\n",
       "\t<dt>MILTON OF CAMPSIE</dt>\n",
       "\t\t<dd>2034</dd>\n",
       "\t<dt>OTHER ELECTORS</dt>\n",
       "\t\t<dd>41</dd>\n",
       "\t<dt>TAMBOWIE_CRAIGTON VILLAGE</dt>\n",
       "\t\t<dd>9</dd>\n",
       "\t<dt>TORRANCE</dt>\n",
       "\t\t<dd>1223</dd>\n",
       "\t<dt>TWECHAR</dt>\n",
       "\t\t<dd>616</dd>\n",
       "</dl>\n"
      ],
      "text/latex": [
       "\\begin{description*}\n",
       "\\item[AUCHINSTARRY] 4\n",
       "\\item[BALDERNOCK] 25\n",
       "\\item[BALMORE] 152\n",
       "\\item[BARDOWIE] 63\n",
       "\\item[BEARSDEN] 12690\n",
       "\\item[BISHOPBRIGGS] 11360\n",
       "\\item[CLACHAN OF CAMPSIE] 75\n",
       "\\item[CLYDEBANK] 11\n",
       "\\item[CROY] 2\n",
       "\\item[CUMBERNAULD] 5\n",
       "\\item[HAUGHHEAD] 7\n",
       "\\item[KIRKINTILLOCH] 9659\n",
       "\\item[LENNOXTOWN] 2140\n",
       "\\item[LENZIE] 4305\n",
       "\\item[MILNGAVIE] 5996\n",
       "\\item[MILTON OF CAMPSIE] 2034\n",
       "\\item[OTHER ELECTORS] 41\n",
       "\\item[TAMBOWIE\\textbackslash{}\\_CRAIGTON VILLAGE] 9\n",
       "\\item[TORRANCE] 1223\n",
       "\\item[TWECHAR] 616\n",
       "\\end{description*}\n"
      ],
      "text/markdown": [
       "AUCHINSTARRY\n",
       ":   4BALDERNOCK\n",
       ":   25BALMORE\n",
       ":   152BARDOWIE\n",
       ":   63BEARSDEN\n",
       ":   12690BISHOPBRIGGS\n",
       ":   11360CLACHAN OF CAMPSIE\n",
       ":   75CLYDEBANK\n",
       ":   11CROY\n",
       ":   2CUMBERNAULD\n",
       ":   5HAUGHHEAD\n",
       ":   7KIRKINTILLOCH\n",
       ":   9659LENNOXTOWN\n",
       ":   2140LENZIE\n",
       ":   4305MILNGAVIE\n",
       ":   5996MILTON OF CAMPSIE\n",
       ":   2034OTHER ELECTORS\n",
       ":   41TAMBOWIE_CRAIGTON VILLAGE\n",
       ":   9TORRANCE\n",
       ":   1223TWECHAR\n",
       ":   616\n",
       "\n"
      ],
      "text/plain": [
       "             AUCHINSTARRY                BALDERNOCK                   BALMORE \n",
       "                        4                        25                       152 \n",
       "                 BARDOWIE                  BEARSDEN              BISHOPBRIGGS \n",
       "                       63                     12690                     11360 \n",
       "       CLACHAN OF CAMPSIE                 CLYDEBANK                      CROY \n",
       "                       75                        11                         2 \n",
       "              CUMBERNAULD                 HAUGHHEAD             KIRKINTILLOCH \n",
       "                        5                         7                      9659 \n",
       "               LENNOXTOWN                    LENZIE                 MILNGAVIE \n",
       "                     2140                      4305                      5996 \n",
       "        MILTON OF CAMPSIE            OTHER ELECTORS TAMBOWIE_CRAIGTON VILLAGE \n",
       "                     2034                        41                         9 \n",
       "                 TORRANCE                   TWECHAR \n",
       "                     1223                       616 "
      ]
     },
     "metadata": {},
     "output_type": "display_data"
    }
   ],
   "source": [
    "# This is the final counts for how many there are in each town\n",
    "summary(EastDunbartonshire$Town)"
   ]
  },
  {
   "cell_type": "code",
   "execution_count": 142,
   "metadata": {
    "collapsed": false
   },
   "outputs": [],
   "source": [
    "Town_list <- split(EastDunbartonshire, EastDunbartonshire$Town)"
   ]
  },
  {
   "cell_type": "code",
   "execution_count": 143,
   "metadata": {
    "collapsed": false
   },
   "outputs": [
    {
     "data": {
      "text/html": [
       "<table>\n",
       "<thead><tr><th></th><th scope=col>X</th><th scope=col>PD</th><th scope=col>ENO</th><th scope=col>Status</th><th scope=col>Sex</th><th scope=col>Title</th><th scope=col>First.Name</th><th scope=col>Middle.Initials</th><th scope=col>Surname</th><th scope=col>Suffix</th><th scope=col>Date.Of.Attainment</th><th scope=col>Franchise.Flag</th><th scope=col>Name.Flat</th><th scope=col>Street</th><th scope=col>Town</th><th scope=col>Nearby.Town</th><th scope=col>Area</th><th scope=col>Postcode</th></tr></thead>\n",
       "<tbody>\n",
       "\t<tr><th scope=row>27809</th><td>27809              </td><td>CS55               </td><td>213                </td><td>E                  </td><td>Female             </td><td>                   </td><td>Marie              </td><td>D                  </td><td>Scoon              </td><td>                   </td><td>                   </td><td>                   </td><td>FOUR ARCHES HOUSE  </td><td>AUCHINSTARRY ROAD  </td><td>CROY               </td><td>KILSYTH            </td><td>EAST DUNBARTONSHIRE</td><td>G65 3TS            </td></tr>\n",
       "\t<tr><th scope=row>27810</th><td>27810              </td><td>CS55               </td><td>214                </td><td>E                  </td><td>Male               </td><td>                   </td><td>Norman             </td><td>H                  </td><td>Scoon              </td><td>                   </td><td>                   </td><td>                   </td><td>FOUR ARCHES HOUSE  </td><td>AUCHINSTARRY ROAD  </td><td>CROY               </td><td>KILSYTH            </td><td>EAST DUNBARTONSHIRE</td><td>G65 3TS            </td></tr>\n",
       "</tbody>\n",
       "</table>\n"
      ],
      "text/latex": [
       "\\begin{tabular}{r|llllllllllllllllll}\n",
       "  & X & PD & ENO & Status & Sex & Title & First.Name & Middle.Initials & Surname & Suffix & Date.Of.Attainment & Franchise.Flag & Name.Flat & Street & Town & Nearby.Town & Area & Postcode\\\\\n",
       "\\hline\n",
       "\t27809 & 27809               & CS55                & 213                 & E                   & Female              &                     & Marie               & D                   & Scoon               &                     &                     &                     & FOUR ARCHES HOUSE   & AUCHINSTARRY ROAD   & CROY                & KILSYTH             & EAST DUNBARTONSHIRE & G65 3TS            \\\\\n",
       "\t27810 & 27810               & CS55                & 214                 & E                   & Male                &                     & Norman              & H                   & Scoon               &                     &                     &                     & FOUR ARCHES HOUSE   & AUCHINSTARRY ROAD   & CROY                & KILSYTH             & EAST DUNBARTONSHIRE & G65 3TS            \\\\\n",
       "\\end{tabular}\n"
      ],
      "text/markdown": [
       "\n",
       "| <!--/--> | X | PD | ENO | Status | Sex | Title | First.Name | Middle.Initials | Surname | Suffix | Date.Of.Attainment | Franchise.Flag | Name.Flat | Street | Town | Nearby.Town | Area | Postcode | \n",
       "|---|---|\n",
       "| 27809 | 27809               | CS55                | 213                 | E                   | Female              |                     | Marie               | D                   | Scoon               |                     |                     |                     | FOUR ARCHES HOUSE   | AUCHINSTARRY ROAD   | CROY                | KILSYTH             | EAST DUNBARTONSHIRE | G65 3TS             | \n",
       "| 27810 | 27810               | CS55                | 214                 | E                   | Male                |                     | Norman              | H                   | Scoon               |                     |                     |                     | FOUR ARCHES HOUSE   | AUCHINSTARRY ROAD   | CROY                | KILSYTH             | EAST DUNBARTONSHIRE | G65 3TS             | \n",
       "\n",
       "\n"
      ],
      "text/plain": [
       "      X     PD   ENO Status Sex    Title First.Name Middle.Initials Surname\n",
       "27809 27809 CS55 213 E      Female       Marie      D               Scoon  \n",
       "27810 27810 CS55 214 E      Male         Norman     H               Scoon  \n",
       "      Suffix Date.Of.Attainment Franchise.Flag Name.Flat        \n",
       "27809                                          FOUR ARCHES HOUSE\n",
       "27810                                          FOUR ARCHES HOUSE\n",
       "      Street            Town Nearby.Town Area                Postcode\n",
       "27809 AUCHINSTARRY ROAD CROY KILSYTH     EAST DUNBARTONSHIRE G65 3TS \n",
       "27810 AUCHINSTARRY ROAD CROY KILSYTH     EAST DUNBARTONSHIRE G65 3TS "
      ]
     },
     "metadata": {},
     "output_type": "display_data"
    }
   ],
   "source": [
    "Town_list$CROY"
   ]
  },
  {
   "cell_type": "code",
   "execution_count": 144,
   "metadata": {
    "collapsed": false
   },
   "outputs": [
    {
     "data": {
      "text/html": [
       "<table>\n",
       "<thead><tr><th></th><th scope=col>X</th><th scope=col>PD</th><th scope=col>ENO</th><th scope=col>Status</th><th scope=col>Sex</th><th scope=col>Title</th><th scope=col>First.Name</th><th scope=col>Middle.Initials</th><th scope=col>Surname</th><th scope=col>Suffix</th><th scope=col>Date.Of.Attainment</th><th scope=col>Franchise.Flag</th><th scope=col>Name.Flat</th><th scope=col>Street</th><th scope=col>Town</th><th scope=col>Nearby.Town</th><th scope=col>Area</th><th scope=col>Postcode</th></tr></thead>\n",
       "<tbody>\n",
       "\t<tr><th scope=row>14315</th><td>14315              </td><td>EC53               </td><td> 449               </td><td>E                  </td><td>Female             </td><td>                   </td><td>Margaret           </td><td>B M                </td><td>Barr               </td><td>                   </td><td>                   </td><td>                   </td><td>CRAIG VIEW         </td><td>2, COCHNO ROAD EAST</td><td>CLYDEBANK          </td><td>                   </td><td>EAST DUNBARTONSHIRE</td><td>G81 5QS            </td></tr>\n",
       "\t<tr><th scope=row>14316</th><td>14316              </td><td>EC53               </td><td>2391               </td><td>A                  </td><td>Male               </td><td>                   </td><td>Alexander          </td><td>Martin             </td><td>Long               </td><td>                   </td><td>                   </td><td>                   </td><td>LAW COTTAGE        </td><td>COCHNO ROAD EAST   </td><td>CLYDEBANK          </td><td>                   </td><td>EAST DUNBARTONSHIRE</td><td>G81 5QR            </td></tr>\n",
       "\t<tr><th scope=row>14317</th><td>14317              </td><td>EC53               </td><td> 453               </td><td>E                  </td><td>Male               </td><td>                   </td><td>Douglas            </td><td>                   </td><td>Hamilton           </td><td>                   </td><td>                   </td><td>                   </td><td>THE CRAIG          </td><td>COCHNO ROAD EAST   </td><td>CLYDEBANK          </td><td>                   </td><td>EAST DUNBARTONSHIRE</td><td>G81 5QR            </td></tr>\n",
       "\t<tr><th scope=row>14318</th><td>14318              </td><td>EC53               </td><td> 454               </td><td>E                  </td><td>Male               </td><td>                   </td><td>James              </td><td>                   </td><td>Hamilton           </td><td>                   </td><td>                   </td><td>                   </td><td>THE CRAIG          </td><td>COCHNO ROAD EAST   </td><td>CLYDEBANK          </td><td>                   </td><td>EAST DUNBARTONSHIRE</td><td>G81 5QR            </td></tr>\n",
       "\t<tr><th scope=row>14319</th><td>14319              </td><td>EC53               </td><td> 455               </td><td>E                  </td><td>Female             </td><td>                   </td><td>Jean               </td><td>                   </td><td>Hamilton           </td><td>                   </td><td>                   </td><td>                   </td><td>THE CRAIG          </td><td>COCHNO ROAD EAST   </td><td>CLYDEBANK          </td><td>                   </td><td>EAST DUNBARTONSHIRE</td><td>G81 5QR            </td></tr>\n",
       "\t<tr><th scope=row>14320</th><td>14320              </td><td>EC53               </td><td> 456               </td><td>E                  </td><td>Female             </td><td>                   </td><td>Christina          </td><td>J                  </td><td>Bell               </td><td>                   </td><td>                   </td><td>                   </td><td>THE SNAB           </td><td>COCHNO ROAD EAST   </td><td>CLYDEBANK          </td><td>                   </td><td>EAST DUNBARTONSHIRE</td><td>G81 5QS            </td></tr>\n",
       "\t<tr><th scope=row>14321</th><td>14321              </td><td>EC53               </td><td> 457               </td><td>E                  </td><td>Male               </td><td>                   </td><td>David              </td><td>                   </td><td>Bell               </td><td>                   </td><td>                   </td><td>                   </td><td>THE SNAB           </td><td>COCHNO ROAD EAST   </td><td>CLYDEBANK          </td><td>                   </td><td>EAST DUNBARTONSHIRE</td><td>G81 5QS            </td></tr>\n",
       "\t<tr><th scope=row>14322</th><td>14322              </td><td>EC53               </td><td> 458               </td><td>E                  </td><td>Male               </td><td>                   </td><td>William            </td><td>                   </td><td>Logan              </td><td>                   </td><td>                   </td><td>                   </td><td>COCHNO TOWN FARM   </td><td>COCHNO ROAD EAST   </td><td>CLYDEBANK          </td><td>                   </td><td>EAST DUNBARTONSHIRE</td><td>G81 5QS            </td></tr>\n",
       "\t<tr><th scope=row>14323</th><td>14323              </td><td>EC53               </td><td> 459               </td><td>E                  </td><td>Female             </td><td>                   </td><td>Elizabeth          </td><td>D                  </td><td>Paul               </td><td>                   </td><td>                   </td><td>                   </td><td>WHITEHILL FARM     </td><td>COCHNO ROAD EAST   </td><td>CLYDEBANK          </td><td>                   </td><td>EAST DUNBARTONSHIRE</td><td>G81 5QR            </td></tr>\n",
       "\t<tr><th scope=row>14324</th><td>14324              </td><td>EC53               </td><td> 460               </td><td>E                  </td><td>Male               </td><td>                   </td><td>John               </td><td>                   </td><td>Paul               </td><td>                   </td><td>                   </td><td>                   </td><td>WHITEHILL FARM     </td><td>COCHNO ROAD EAST   </td><td>CLYDEBANK          </td><td>                   </td><td>EAST DUNBARTONSHIRE</td><td>G81 5QR            </td></tr>\n",
       "\t<tr><th scope=row>14325</th><td>14325              </td><td>EC53               </td><td> 461               </td><td>E                  </td><td>Female             </td><td>                   </td><td>Kathryn            </td><td>M                  </td><td>Paul               </td><td>                   </td><td>                   </td><td>                   </td><td>WHITEHILL FARM     </td><td>COCHNO ROAD EAST   </td><td>CLYDEBANK          </td><td>                   </td><td>EAST DUNBARTONSHIRE</td><td>G81 5QR            </td></tr>\n",
       "</tbody>\n",
       "</table>\n"
      ],
      "text/latex": [
       "\\begin{tabular}{r|llllllllllllllllll}\n",
       "  & X & PD & ENO & Status & Sex & Title & First.Name & Middle.Initials & Surname & Suffix & Date.Of.Attainment & Franchise.Flag & Name.Flat & Street & Town & Nearby.Town & Area & Postcode\\\\\n",
       "\\hline\n",
       "\t14315 & 14315               & EC53                &  449                & E                   & Female              &                     & Margaret            & B M                 & Barr                &                     &                     &                     & CRAIG VIEW          & 2, COCHNO ROAD EAST & CLYDEBANK           &                     & EAST DUNBARTONSHIRE & G81 5QS            \\\\\n",
       "\t14316 & 14316               & EC53                & 2391                & A                   & Male                &                     & Alexander           & Martin              & Long                &                     &                     &                     & LAW COTTAGE         & COCHNO ROAD EAST    & CLYDEBANK           &                     & EAST DUNBARTONSHIRE & G81 5QR            \\\\\n",
       "\t14317 & 14317               & EC53                &  453                & E                   & Male                &                     & Douglas             &                     & Hamilton            &                     &                     &                     & THE CRAIG           & COCHNO ROAD EAST    & CLYDEBANK           &                     & EAST DUNBARTONSHIRE & G81 5QR            \\\\\n",
       "\t14318 & 14318               & EC53                &  454                & E                   & Male                &                     & James               &                     & Hamilton            &                     &                     &                     & THE CRAIG           & COCHNO ROAD EAST    & CLYDEBANK           &                     & EAST DUNBARTONSHIRE & G81 5QR            \\\\\n",
       "\t14319 & 14319               & EC53                &  455                & E                   & Female              &                     & Jean                &                     & Hamilton            &                     &                     &                     & THE CRAIG           & COCHNO ROAD EAST    & CLYDEBANK           &                     & EAST DUNBARTONSHIRE & G81 5QR            \\\\\n",
       "\t14320 & 14320               & EC53                &  456                & E                   & Female              &                     & Christina           & J                   & Bell                &                     &                     &                     & THE SNAB            & COCHNO ROAD EAST    & CLYDEBANK           &                     & EAST DUNBARTONSHIRE & G81 5QS            \\\\\n",
       "\t14321 & 14321               & EC53                &  457                & E                   & Male                &                     & David               &                     & Bell                &                     &                     &                     & THE SNAB            & COCHNO ROAD EAST    & CLYDEBANK           &                     & EAST DUNBARTONSHIRE & G81 5QS            \\\\\n",
       "\t14322 & 14322               & EC53                &  458                & E                   & Male                &                     & William             &                     & Logan               &                     &                     &                     & COCHNO TOWN FARM    & COCHNO ROAD EAST    & CLYDEBANK           &                     & EAST DUNBARTONSHIRE & G81 5QS            \\\\\n",
       "\t14323 & 14323               & EC53                &  459                & E                   & Female              &                     & Elizabeth           & D                   & Paul                &                     &                     &                     & WHITEHILL FARM      & COCHNO ROAD EAST    & CLYDEBANK           &                     & EAST DUNBARTONSHIRE & G81 5QR            \\\\\n",
       "\t14324 & 14324               & EC53                &  460                & E                   & Male                &                     & John                &                     & Paul                &                     &                     &                     & WHITEHILL FARM      & COCHNO ROAD EAST    & CLYDEBANK           &                     & EAST DUNBARTONSHIRE & G81 5QR            \\\\\n",
       "\t14325 & 14325               & EC53                &  461                & E                   & Female              &                     & Kathryn             & M                   & Paul                &                     &                     &                     & WHITEHILL FARM      & COCHNO ROAD EAST    & CLYDEBANK           &                     & EAST DUNBARTONSHIRE & G81 5QR            \\\\\n",
       "\\end{tabular}\n"
      ],
      "text/markdown": [
       "\n",
       "| <!--/--> | X | PD | ENO | Status | Sex | Title | First.Name | Middle.Initials | Surname | Suffix | Date.Of.Attainment | Franchise.Flag | Name.Flat | Street | Town | Nearby.Town | Area | Postcode | \n",
       "|---|---|---|---|---|---|---|---|---|---|---|\n",
       "| 14315 | 14315               | EC53                |  449                | E                   | Female              |                     | Margaret            | B M                 | Barr                |                     |                     |                     | CRAIG VIEW          | 2, COCHNO ROAD EAST | CLYDEBANK           |                     | EAST DUNBARTONSHIRE | G81 5QS             | \n",
       "| 14316 | 14316               | EC53                | 2391                | A                   | Male                |                     | Alexander           | Martin              | Long                |                     |                     |                     | LAW COTTAGE         | COCHNO ROAD EAST    | CLYDEBANK           |                     | EAST DUNBARTONSHIRE | G81 5QR             | \n",
       "| 14317 | 14317               | EC53                |  453                | E                   | Male                |                     | Douglas             |                     | Hamilton            |                     |                     |                     | THE CRAIG           | COCHNO ROAD EAST    | CLYDEBANK           |                     | EAST DUNBARTONSHIRE | G81 5QR             | \n",
       "| 14318 | 14318               | EC53                |  454                | E                   | Male                |                     | James               |                     | Hamilton            |                     |                     |                     | THE CRAIG           | COCHNO ROAD EAST    | CLYDEBANK           |                     | EAST DUNBARTONSHIRE | G81 5QR             | \n",
       "| 14319 | 14319               | EC53                |  455                | E                   | Female              |                     | Jean                |                     | Hamilton            |                     |                     |                     | THE CRAIG           | COCHNO ROAD EAST    | CLYDEBANK           |                     | EAST DUNBARTONSHIRE | G81 5QR             | \n",
       "| 14320 | 14320               | EC53                |  456                | E                   | Female              |                     | Christina           | J                   | Bell                |                     |                     |                     | THE SNAB            | COCHNO ROAD EAST    | CLYDEBANK           |                     | EAST DUNBARTONSHIRE | G81 5QS             | \n",
       "| 14321 | 14321               | EC53                |  457                | E                   | Male                |                     | David               |                     | Bell                |                     |                     |                     | THE SNAB            | COCHNO ROAD EAST    | CLYDEBANK           |                     | EAST DUNBARTONSHIRE | G81 5QS             | \n",
       "| 14322 | 14322               | EC53                |  458                | E                   | Male                |                     | William             |                     | Logan               |                     |                     |                     | COCHNO TOWN FARM    | COCHNO ROAD EAST    | CLYDEBANK           |                     | EAST DUNBARTONSHIRE | G81 5QS             | \n",
       "| 14323 | 14323               | EC53                |  459                | E                   | Female              |                     | Elizabeth           | D                   | Paul                |                     |                     |                     | WHITEHILL FARM      | COCHNO ROAD EAST    | CLYDEBANK           |                     | EAST DUNBARTONSHIRE | G81 5QR             | \n",
       "| 14324 | 14324               | EC53                |  460                | E                   | Male                |                     | John                |                     | Paul                |                     |                     |                     | WHITEHILL FARM      | COCHNO ROAD EAST    | CLYDEBANK           |                     | EAST DUNBARTONSHIRE | G81 5QR             | \n",
       "| 14325 | 14325               | EC53                |  461                | E                   | Female              |                     | Kathryn             | M                   | Paul                |                     |                     |                     | WHITEHILL FARM      | COCHNO ROAD EAST    | CLYDEBANK           |                     | EAST DUNBARTONSHIRE | G81 5QR             | \n",
       "\n",
       "\n"
      ],
      "text/plain": [
       "      X     PD   ENO  Status Sex    Title First.Name Middle.Initials Surname \n",
       "14315 14315 EC53  449 E      Female       Margaret   B M             Barr    \n",
       "14316 14316 EC53 2391 A      Male         Alexander  Martin          Long    \n",
       "14317 14317 EC53  453 E      Male         Douglas                    Hamilton\n",
       "14318 14318 EC53  454 E      Male         James                      Hamilton\n",
       "14319 14319 EC53  455 E      Female       Jean                       Hamilton\n",
       "14320 14320 EC53  456 E      Female       Christina  J               Bell    \n",
       "14321 14321 EC53  457 E      Male         David                      Bell    \n",
       "14322 14322 EC53  458 E      Male         William                    Logan   \n",
       "14323 14323 EC53  459 E      Female       Elizabeth  D               Paul    \n",
       "14324 14324 EC53  460 E      Male         John                       Paul    \n",
       "14325 14325 EC53  461 E      Female       Kathryn    M               Paul    \n",
       "      Suffix Date.Of.Attainment Franchise.Flag Name.Flat       \n",
       "14315                                          CRAIG VIEW      \n",
       "14316                                          LAW COTTAGE     \n",
       "14317                                          THE CRAIG       \n",
       "14318                                          THE CRAIG       \n",
       "14319                                          THE CRAIG       \n",
       "14320                                          THE SNAB        \n",
       "14321                                          THE SNAB        \n",
       "14322                                          COCHNO TOWN FARM\n",
       "14323                                          WHITEHILL FARM  \n",
       "14324                                          WHITEHILL FARM  \n",
       "14325                                          WHITEHILL FARM  \n",
       "      Street              Town      Nearby.Town Area                Postcode\n",
       "14315 2, COCHNO ROAD EAST CLYDEBANK             EAST DUNBARTONSHIRE G81 5QS \n",
       "14316 COCHNO ROAD EAST    CLYDEBANK             EAST DUNBARTONSHIRE G81 5QR \n",
       "14317 COCHNO ROAD EAST    CLYDEBANK             EAST DUNBARTONSHIRE G81 5QR \n",
       "14318 COCHNO ROAD EAST    CLYDEBANK             EAST DUNBARTONSHIRE G81 5QR \n",
       "14319 COCHNO ROAD EAST    CLYDEBANK             EAST DUNBARTONSHIRE G81 5QR \n",
       "14320 COCHNO ROAD EAST    CLYDEBANK             EAST DUNBARTONSHIRE G81 5QS \n",
       "14321 COCHNO ROAD EAST    CLYDEBANK             EAST DUNBARTONSHIRE G81 5QS \n",
       "14322 COCHNO ROAD EAST    CLYDEBANK             EAST DUNBARTONSHIRE G81 5QS \n",
       "14323 COCHNO ROAD EAST    CLYDEBANK             EAST DUNBARTONSHIRE G81 5QR \n",
       "14324 COCHNO ROAD EAST    CLYDEBANK             EAST DUNBARTONSHIRE G81 5QR \n",
       "14325 COCHNO ROAD EAST    CLYDEBANK             EAST DUNBARTONSHIRE G81 5QR "
      ]
     },
     "metadata": {},
     "output_type": "display_data"
    }
   ],
   "source": [
    "Town_list$CLYDEBANK"
   ]
  },
  {
   "cell_type": "code",
   "execution_count": 158,
   "metadata": {
    "collapsed": false
   },
   "outputs": [
    {
     "name": "stdout",
     "output_type": "stream",
     "text": [
      "List of 20\n",
      " $ AUCHINSTARRY             :'data.frame':\t4 obs. of  18 variables:\n",
      "  ..$ X                 : int [1:4] 27661 27662 27663 27664\n",
      "  ..$ PD                : Factor w/ 51 levels \"CS50\",\"CS51\",..: 6 6 6 6\n",
      "  ..$ ENO               : num [1:4] 12 13 14 15\n",
      "  ..$ Status            : Factor w/ 3 levels \"A\",\"E\",\"M\": 2 2 2 2\n",
      "  ..$ Sex               : Factor w/ 3 levels \"?\",\"Female\",\"Male\": 3 2 2 3\n",
      "  ..$ Title             : Factor w/ 7 levels \"\",\"DR\",\"LADY\",..: 1 1 1 1\n",
      "  ..$ First.Name        : Factor w/ 3629 levels \"Aaron\",\"Aarti\",..: 91 672 1518 2688\n",
      "  ..$ Middle.Initials   : Factor w/ 1185 levels \"\",\"A\",\"A A\",\"A B\",..: 390 658 1 1\n",
      "  ..$ Surname           : Factor w/ 6072 levels \"Abbas\",\"Abbinnett\",..: 324 324 324 324\n",
      "  ..$ Suffix            : Factor w/ 7 levels \"\",\"JNR\",\"JUN\",..: 1 1 1 1\n",
      "  ..$ Date.Of.Attainment: Factor w/ 258 levels \"\",\"01/01/17\",..: 1 1 1 1\n",
      "  ..$ Franchise.Flag    : Factor w/ 4 levels \"\",\"F\",\"G\",\"L\": 1 1 1 1\n",
      "  ..$ Name.Flat         : Factor w/ 1407 levels \"\",\"1  BALJAFFRAY COTTAGES\",..: 527 527 526 526\n",
      "  ..$ Street            : Factor w/ 26207 levels \"\",\"1 BALQUHARRAGE FARM COTTAGES\",..: 1 1 1 1\n",
      "  ..$ Town              : Factor w/ 20 levels \"AUCHINSTARRY\",..: 1 1 1 1\n",
      "  ..$ Nearby.Town       : Factor w/ 5 levels \"\",\"CLACHAN OF CAMPSIE\",..: 3 3 3 3\n",
      "  ..$ Area              : Factor w/ 9 levels \"BEARSDEN NORTH\",..: 5 5 5 5\n",
      "  ..$ Postcode          : Factor w/ 2869 levels \"\",\"G33 1SA\",\"G33 1SZ\",..: 1779 1779 1779 1779\n",
      " $ BALDERNOCK               :'data.frame':\t25 obs. of  18 variables:\n",
      "  ..$ X                 : int [1:25] 38466 38467 38468 38469 38470 38471 38472 38473 38474 38475 ...\n",
      "  ..$ PD                : Factor w/ 51 levels \"CS50\",\"CS51\",..: 27 27 27 27 27 27 27 27 27 27 ...\n",
      "  ..$ ENO               : num [1:25] 28 29 30 32 33 41 44 45 46 53 ...\n",
      "  ..$ Status            : Factor w/ 3 levels \"A\",\"E\",\"M\": 2 2 2 2 2 2 2 2 2 2 ...\n",
      "  ..$ Sex               : Factor w/ 3 levels \"?\",\"Female\",\"Male\": 2 3 3 2 3 3 3 2 3 3 ...\n",
      "  ..$ Title             : Factor w/ 7 levels \"\",\"DR\",\"LADY\",..: 1 1 1 1 1 1 1 1 1 1 ...\n",
      "  ..$ First.Name        : Factor w/ 3629 levels \"Aaron\",\"Aarti\",..: 1443 2272 1198 1172 1501 2672 3217 1446 3551 1376 ...\n",
      "  ..$ Middle.Initials   : Factor w/ 1185 levels \"\",\"A\",\"A A\",\"A B\",..: 295 295 115 638 295 1 1 1 1 2 ...\n",
      "  ..$ Surname           : Factor w/ 6072 levels \"Abbas\",\"Abbinnett\",..: 1637 1637 4151 5559 5559 826 638 2342 2342 4412 ...\n",
      "  ..$ Suffix            : Factor w/ 7 levels \"\",\"JNR\",\"JUN\",..: 1 1 1 1 1 1 1 1 1 1 ...\n",
      "  ..$ Date.Of.Attainment: Factor w/ 258 levels \"\",\"01/01/17\",..: 1 1 1 1 1 1 1 1 1 1 ...\n",
      "  ..$ Franchise.Flag    : Factor w/ 4 levels \"\",\"F\",\"G\",\"L\": 1 1 1 1 1 1 1 1 1 1 ...\n",
      "  ..$ Name.Flat         : Factor w/ 1407 levels \"\",\"1  BALJAFFRAY COTTAGES\",..: 538 538 539 542 542 1106 1120 1154 1154 1204 ...\n",
      "  ..$ Street            : Factor w/ 26207 levels \"\",\"1 BALQUHARRAGE FARM COTTAGES\",..: 1 1 1 1 1 1 1 1 1 1 ...\n",
      "  ..$ Town              : Factor w/ 20 levels \"AUCHINSTARRY\",..: 2 2 2 2 2 2 2 2 2 2 ...\n",
      "  ..$ Nearby.Town       : Factor w/ 5 levels \"\",\"CLACHAN OF CAMPSIE\",..: 4 4 4 4 4 4 4 4 4 4 ...\n",
      "  ..$ Area              : Factor w/ 9 levels \"BEARSDEN NORTH\",..: 5 5 5 5 5 5 5 5 5 5 ...\n",
      "  ..$ Postcode          : Factor w/ 2869 levels \"\",\"G33 1SA\",\"G33 1SZ\",..: 762 762 762 762 762 761 765 762 762 762 ...\n",
      " $ BALMORE                  :'data.frame':\t152 obs. of  18 variables:\n",
      "  ..$ X                 : int [1:152] 38491 38492 38493 38494 38495 38496 38497 38498 38499 38500 ...\n",
      "  ..$ PD                : Factor w/ 51 levels \"CS50\",\"CS51\",..: 27 27 27 27 27 27 27 27 27 27 ...\n",
      "  ..$ ENO               : num [1:152] 82 83 86 96 97 98 99 100 101 102 ...\n",
      "  ..$ Status            : Factor w/ 3 levels \"A\",\"E\",\"M\": 2 2 2 2 2 2 2 2 2 2 ...\n",
      "  ..$ Sex               : Factor w/ 3 levels \"?\",\"Female\",\"Male\": 2 3 2 3 3 2 2 3 3 3 ...\n",
      "  ..$ Title             : Factor w/ 7 levels \"\",\"DR\",\"LADY\",..: 1 1 1 1 1 1 1 1 1 1 ...\n",
      "  ..$ First.Name        : Factor w/ 3629 levels \"Aaron\",\"Aarti\",..: 1330 2875 268 1391 1659 202 1012 59 1462 1501 ...\n",
      "  ..$ Middle.Initials   : Factor w/ 1185 levels \"\",\"A\",\"A A\",\"A B\",..: 1 1 295 1 1 1 1 1 1 1 ...\n",
      "  ..$ Surname           : Factor w/ 6072 levels \"Abbas\",\"Abbinnett\",..: 663 663 905 637 3340 3259 677 3745 3745 3745 ...\n",
      "  ..$ Suffix            : Factor w/ 7 levels \"\",\"JNR\",\"JUN\",..: 1 1 1 1 1 1 1 1 1 1 ...\n",
      "  ..$ Date.Of.Attainment: Factor w/ 258 levels \"\",\"01/01/17\",..: 1 1 1 1 1 1 1 1 1 1 ...\n",
      "  ..$ Franchise.Flag    : Factor w/ 4 levels \"\",\"F\",\"G\",\"L\": 1 1 1 1 1 1 1 1 1 1 ...\n",
      "  ..$ Name.Flat         : Factor w/ 1407 levels \"\",\"1  BALJAFFRAY COTTAGES\",..: 1 1 1 31 265 325 375 375 375 375 ...\n",
      "  ..$ Street            : Factor w/ 26207 levels \"\",\"1 BALQUHARRAGE FARM COTTAGES\",..: 26044 26044 26091 26037 26037 26037 26037 26037 26037 26037 ...\n",
      "  ..$ Town              : Factor w/ 20 levels \"AUCHINSTARRY\",..: 3 3 3 3 3 3 3 3 3 3 ...\n",
      "  ..$ Nearby.Town       : Factor w/ 5 levels \"\",\"CLACHAN OF CAMPSIE\",..: 5 5 5 1 1 1 1 1 1 1 ...\n",
      "  ..$ Area              : Factor w/ 9 levels \"BEARSDEN NORTH\",..: 5 5 5 5 5 5 5 5 5 5 ...\n",
      "  ..$ Postcode          : Factor w/ 2869 levels \"\",\"G33 1SA\",\"G33 1SZ\",..: 1702 1702 1703 1695 1695 1695 1695 1695 1695 1695 ...\n",
      " $ BARDOWIE                 :'data.frame':\t63 obs. of  18 variables:\n",
      "  ..$ X                 : int [1:63] 38454 38455 38456 38457 38458 38541 38542 38543 38544 38545 ...\n",
      "  ..$ PD                : Factor w/ 51 levels \"CS50\",\"CS51\",..: 27 27 27 27 27 27 27 27 27 27 ...\n",
      "  ..$ ENO               : num [1:63] 11 12 13 14 16 183 185 187 652 188 ...\n",
      "  ..$ Status            : Factor w/ 3 levels \"A\",\"E\",\"M\": 2 2 2 2 2 2 2 2 1 2 ...\n",
      "  ..$ Sex               : Factor w/ 3 levels \"?\",\"Female\",\"Male\": 3 1 2 3 2 3 2 3 3 2 ...\n",
      "  ..$ Title             : Factor w/ 7 levels \"\",\"DR\",\"LADY\",..: 1 1 1 1 1 1 1 1 1 1 ...\n",
      "  ..$ First.Name        : Factor w/ 3629 levels \"Aaron\",\"Aarti\",..: 775 3207 2216 222 3560 1501 3052 222 523 555 ...\n",
      "  ..$ Middle.Initials   : Factor w/ 1185 levels \"\",\"A\",\"A A\",\"A B\",..: 2 2 1 1 1 722 615 1 1 1 ...\n",
      "  ..$ Surname           : Factor w/ 6072 levels \"Abbas\",\"Abbinnett\",..: 446 446 1106 2313 2069 153 4528 2975 2975 2975 ...\n",
      "  ..$ Suffix            : Factor w/ 7 levels \"\",\"JNR\",\"JUN\",..: 1 1 1 1 1 1 1 1 1 1 ...\n",
      "  ..$ Date.Of.Attainment: Factor w/ 258 levels \"\",\"01/01/17\",..: 1 1 1 1 1 1 1 1 1 1 ...\n",
      "  ..$ Franchise.Flag    : Factor w/ 4 levels \"\",\"F\",\"G\",\"L\": 1 1 1 1 1 1 1 1 1 1 ...\n",
      "  ..$ Name.Flat         : Factor w/ 1407 levels \"\",\"1  BALJAFFRAY COTTAGES\",..: 1 1 1 1 1 140 243 540 540 540 ...\n",
      "  ..$ Street            : Factor w/ 26207 levels \"\",\"1 BALQUHARRAGE FARM COTTAGES\",..: 14 14 7358 7358 15450 26037 26037 26037 26037 26037 ...\n",
      "  ..$ Town              : Factor w/ 20 levels \"AUCHINSTARRY\",..: 4 4 4 4 4 4 4 4 4 4 ...\n",
      "  ..$ Nearby.Town       : Factor w/ 5 levels \"\",\"CLACHAN OF CAMPSIE\",..: 4 4 4 4 4 4 4 4 4 4 ...\n",
      "  ..$ Area              : Factor w/ 9 levels \"BEARSDEN NORTH\",..: 5 5 5 5 5 5 5 5 5 5 ...\n",
      "  ..$ Postcode          : Factor w/ 2869 levels \"\",\"G33 1SA\",\"G33 1SZ\",..: 757 757 757 757 757 752 752 755 755 755 ...\n",
      " $ BEARSDEN                 :'data.frame':\t12690 obs. of  18 variables:\n",
      "  ..$ X                 : int [1:12690] 2976 2977 2978 2979 2980 2981 2982 2983 2984 2985 ...\n",
      "  ..$ PD                : Factor w/ 51 levels \"CS50\",\"CS51\",..: 22 22 22 22 22 22 22 22 22 22 ...\n",
      "  ..$ ENO               : num [1:12690] 3 4 6 7 13 17 18 21 22 23 ...\n",
      "  ..$ Status            : Factor w/ 3 levels \"A\",\"E\",\"M\": 2 2 2 2 2 2 2 2 2 2 ...\n",
      "  ..$ Sex               : Factor w/ 3 levels \"?\",\"Female\",\"Male\": 3 2 3 2 2 2 3 3 2 2 ...\n",
      "  ..$ Title             : Factor w/ 7 levels \"\",\"DR\",\"LADY\",..: 1 1 1 1 1 1 1 1 1 1 ...\n",
      "  ..$ First.Name        : Factor w/ 3629 levels \"Aaron\",\"Aarti\",..: 2370 1172 1501 1615 2216 2216 3551 1136 3465 944 ...\n",
      "  ..$ Middle.Initials   : Factor w/ 1185 levels \"\",\"A\",\"A A\",\"A B\",..: 1 1 363 722 945 658 856 390 722 1 ...\n",
      "  ..$ Surname           : Factor w/ 6072 levels \"Abbas\",\"Abbinnett\",..: 3112 2894 3137 3137 6041 1417 1417 616 616 5603 ...\n",
      "  ..$ Suffix            : Factor w/ 7 levels \"\",\"JNR\",\"JUN\",..: 1 1 1 1 1 1 1 1 1 1 ...\n",
      "  ..$ Date.Of.Attainment: Factor w/ 258 levels \"\",\"01/01/17\",..: 1 1 1 1 1 1 1 1 1 1 ...\n",
      "  ..$ Franchise.Flag    : Factor w/ 4 levels \"\",\"F\",\"G\",\"L\": 1 1 1 1 1 1 1 1 1 1 ...\n",
      "  ..$ Name.Flat         : Factor w/ 1407 levels \"\",\"1  BALJAFFRAY COTTAGES\",..: 1 1 1 1 1 1 1 1 1 1 ...\n",
      "  ..$ Street            : Factor w/ 26207 levels \"\",\"1 BALQUHARRAGE FARM COTTAGES\",..: 7412 12085 18212 18212 24993 2597 2597 4581 4581 5189 ...\n",
      "  ..$ Town              : Factor w/ 20 levels \"AUCHINSTARRY\",..: 5 5 5 5 5 5 5 5 5 5 ...\n",
      "  ..$ Nearby.Town       : Factor w/ 5 levels \"\",\"CLACHAN OF CAMPSIE\",..: 1 1 1 1 1 1 1 1 1 1 ...\n",
      "  ..$ Area              : Factor w/ 9 levels \"BEARSDEN NORTH\",..: 5 5 5 5 5 5 5 5 5 5 ...\n",
      "  ..$ Postcode          : Factor w/ 2869 levels \"\",\"G33 1SA\",\"G33 1SZ\",..: 334 334 334 334 334 334 334 334 334 334 ...\n",
      " $ BISHOPBRIGGS             :'data.frame':\t11360 obs. of  18 variables:\n",
      "  ..$ X                 : int [1:11360] 1008 1009 1010 1011 1012 1013 1014 1015 1016 1017 ...\n",
      "  ..$ PD                : Factor w/ 51 levels \"CS50\",\"CS51\",..: 32 32 32 32 32 32 32 32 32 32 ...\n",
      "  ..$ ENO               : num [1:11360] 1 4 5 6 8 9 11 15 16 19 ...\n",
      "  ..$ Status            : Factor w/ 3 levels \"A\",\"E\",\"M\": 2 2 2 2 2 2 2 2 2 2 ...\n",
      "  ..$ Sex               : Factor w/ 3 levels \"?\",\"Female\",\"Male\": 2 2 2 3 2 3 3 3 2 2 ...\n",
      "  ..$ Title             : Factor w/ 7 levels \"\",\"DR\",\"LADY\",..: 1 1 1 1 1 1 1 1 1 1 ...\n",
      "  ..$ First.Name        : Factor w/ 3629 levels \"Aaron\",\"Aarti\",..: 2216 2286 1182 1343 2883 1379 3551 222 1330 62 ...\n",
      "  ..$ Middle.Initials   : Factor w/ 1185 levels \"\",\"A\",\"A A\",\"A B\",..: 1 115 1 446 1 171 1018 1 1 295 ...\n",
      "  ..$ Surname           : Factor w/ 6072 levels \"Abbas\",\"Abbinnett\",..: 2342 2105 3627 3566 4141 1374 3657 764 764 4870 ...\n",
      "  ..$ Suffix            : Factor w/ 7 levels \"\",\"JNR\",\"JUN\",..: 1 1 1 1 1 1 1 1 1 1 ...\n",
      "  ..$ Date.Of.Attainment: Factor w/ 258 levels \"\",\"01/01/17\",..: 1 1 1 1 1 1 1 1 1 1 ...\n",
      "  ..$ Franchise.Flag    : Factor w/ 4 levels \"\",\"F\",\"G\",\"L\": 1 1 1 1 1 1 1 1 1 1 ...\n",
      "  ..$ Name.Flat         : Factor w/ 1407 levels \"\",\"1  BALJAFFRAY COTTAGES\",..: 1042 1046 1047 1048 1063 1064 1065 1070 1070 1073 ...\n",
      "  ..$ Street            : Factor w/ 26207 levels \"\",\"1 BALQUHARRAGE FARM COTTAGES\",..: 277 277 277 277 277 277 277 277 277 277 ...\n",
      "  ..$ Town              : Factor w/ 20 levels \"AUCHINSTARRY\",..: 6 6 6 6 6 6 6 6 6 6 ...\n",
      "  ..$ Nearby.Town       : Factor w/ 5 levels \"\",\"CLACHAN OF CAMPSIE\",..: 1 1 1 1 1 1 1 1 1 1 ...\n",
      "  ..$ Area              : Factor w/ 9 levels \"BEARSDEN NORTH\",..: 5 5 5 5 5 5 5 5 5 5 ...\n",
      "  ..$ Postcode          : Factor w/ 2869 levels \"\",\"G33 1SA\",\"G33 1SZ\",..: 1446 1446 1446 1446 1446 1446 1446 1446 1446 1446 ...\n",
      " $ CLACHAN OF CAMPSIE       :'data.frame':\t75 obs. of  18 variables:\n",
      "  ..$ X                 : int [1:75] 36217 36218 36219 36220 36221 36222 36223 36224 36225 36226 ...\n",
      "  ..$ PD                : Factor w/ 51 levels \"CS50\",\"CS51\",..: 2 2 2 2 2 2 2 2 2 2 ...\n",
      "  ..$ ENO               : num [1:75] 23 24 27 28 29 30 31 32 33 49 ...\n",
      "  ..$ Status            : Factor w/ 3 levels \"A\",\"E\",\"M\": 2 2 2 2 2 2 2 2 2 2 ...\n",
      "  ..$ Sex               : Factor w/ 3 levels \"?\",\"Female\",\"Male\": 3 2 3 2 2 2 3 3 2 2 ...\n",
      "  ..$ Title             : Factor w/ 7 levels \"\",\"DR\",\"LADY\",..: 1 1 1 1 1 1 1 1 1 1 ...\n",
      "  ..$ First.Name        : Factor w/ 3629 levels \"Aaron\",\"Aarti\",..: 112 2746 1202 1927 253 672 1136 691 1481 2676 ...\n",
      "  ..$ Middle.Initials   : Factor w/ 1185 levels \"\",\"A\",\"A A\",\"A B\",..: 2 2 1 1 1 333 1 1 1 1 ...\n",
      "  ..$ Surname           : Factor w/ 6072 levels \"Abbas\",\"Abbinnett\",..: 4497 4497 5782 5782 4613 4613 4613 2087 2087 946 ...\n",
      "  ..$ Suffix            : Factor w/ 7 levels \"\",\"JNR\",\"JUN\",..: 1 1 1 1 1 1 1 1 1 1 ...\n",
      "  ..$ Date.Of.Attainment: Factor w/ 258 levels \"\",\"01/01/17\",..: 1 1 1 1 1 208 1 1 1 1 ...\n",
      "  ..$ Franchise.Flag    : Factor w/ 4 levels \"\",\"F\",\"G\",\"L\": 1 1 1 1 1 1 1 1 1 1 ...\n",
      "  ..$ Name.Flat         : Factor w/ 1407 levels \"\",\"1  BALJAFFRAY COTTAGES\",..: 587 587 657 657 658 658 658 659 659 1 ...\n",
      "  ..$ Street            : Factor w/ 26207 levels \"\",\"1 BALQUHARRAGE FARM COTTAGES\",..: 1 1 1 1 1 1 1 1 1 12172 ...\n",
      "  ..$ Town              : Factor w/ 20 levels \"AUCHINSTARRY\",..: 7 7 7 7 7 7 7 7 7 7 ...\n",
      "  ..$ Nearby.Town       : Factor w/ 5 levels \"\",\"CLACHAN OF CAMPSIE\",..: 1 1 1 1 1 1 1 1 1 1 ...\n",
      "  ..$ Area              : Factor w/ 9 levels \"BEARSDEN NORTH\",..: 5 5 5 5 5 5 5 5 5 5 ...\n",
      "  ..$ Postcode          : Factor w/ 2869 levels \"\",\"G33 1SA\",\"G33 1SZ\",..: 2644 2644 2644 2644 2644 2644 2644 2644 2644 2640 ...\n",
      " $ CLYDEBANK                :'data.frame':\t11 obs. of  18 variables:\n",
      "  ..$ X                 : int [1:11] 14315 14316 14317 14318 14319 14320 14321 14322 14323 14324 ...\n",
      "  ..$ PD                : Factor w/ 51 levels \"CS50\",\"CS51\",..: 16 16 16 16 16 16 16 16 16 16 ...\n",
      "  ..$ ENO               : num [1:11] 449 2391 453 454 455 ...\n",
      "  ..$ Status            : Factor w/ 3 levels \"A\",\"E\",\"M\": 2 1 2 2 2 2 2 2 2 2 ...\n",
      "  ..$ Sex               : Factor w/ 3 levels \"?\",\"Female\",\"Male\": 2 3 3 3 2 2 3 3 2 3 ...\n",
      "  ..$ Title             : Factor w/ 7 levels \"\",\"DR\",\"LADY\",..: 1 1 1 1 1 1 1 1 1 1 ...\n",
      "  ..$ First.Name        : Factor w/ 3629 levels \"Aaron\",\"Aarti\",..: 2216 112 880 1501 1560 650 775 3551 944 1631 ...\n",
      "  ..$ Middle.Initials   : Factor w/ 1185 levels \"\",\"A\",\"A A\",\"A B\",..: 126 786 1 1 1 526 1 1 232 1 ...\n",
      "  ..$ Surname           : Factor w/ 6072 levels \"Abbas\",\"Abbinnett\",..: 277 3076 2212 2212 2212 344 344 3069 4574 4574 ...\n",
      "  ..$ Suffix            : Factor w/ 7 levels \"\",\"JNR\",\"JUN\",..: 1 1 1 1 1 1 1 1 1 1 ...\n",
      "  ..$ Date.Of.Attainment: Factor w/ 258 levels \"\",\"01/01/17\",..: 1 1 1 1 1 1 1 1 1 1 ...\n",
      "  ..$ Franchise.Flag    : Factor w/ 4 levels \"\",\"F\",\"G\",\"L\": 1 1 1 1 1 1 1 1 1 1 ...\n",
      "  ..$ Name.Flat         : Factor w/ 1407 levels \"\",\"1  BALJAFFRAY COTTAGES\",..: 654 1175 1326 1326 1326 1354 1354 649 1400 1400 ...\n",
      "  ..$ Street            : Factor w/ 26207 levels \"\",\"1 BALQUHARRAGE FARM COTTAGES\",..: 7524 26076 26076 26076 26076 26076 26076 26076 26076 26076 ...\n",
      "  ..$ Town              : Factor w/ 20 levels \"AUCHINSTARRY\",..: 8 8 8 8 8 8 8 8 8 8 ...\n",
      "  ..$ Nearby.Town       : Factor w/ 5 levels \"\",\"CLACHAN OF CAMPSIE\",..: 1 1 1 1 1 1 1 1 1 1 ...\n",
      "  ..$ Area              : Factor w/ 9 levels \"BEARSDEN NORTH\",..: 5 5 5 5 5 5 5 5 5 5 ...\n",
      "  ..$ Postcode          : Factor w/ 2869 levels \"\",\"G33 1SA\",\"G33 1SZ\",..: 2869 2868 2868 2868 2868 2869 2869 2869 2868 2868 ...\n",
      " $ CROY                     :'data.frame':\t2 obs. of  18 variables:\n",
      "  ..$ X                 : int [1:2] 27809 27810\n",
      "  ..$ PD                : Factor w/ 51 levels \"CS50\",\"CS51\",..: 6 6\n",
      "  ..$ ENO               : num [1:2] 213 214\n",
      "  ..$ Status            : Factor w/ 3 levels \"A\",\"E\",\"M\": 2 2\n",
      "  ..$ Sex               : Factor w/ 3 levels \"?\",\"Female\",\"Male\": 2 3\n",
      "  ..$ Title             : Factor w/ 7 levels \"\",\"DR\",\"LADY\",..: 1 1\n",
      "  ..$ First.Name        : Factor w/ 3629 levels \"Aaron\",\"Aarti\",..: 2243 2603\n",
      "  ..$ Middle.Initials   : Factor w/ 1185 levels \"\",\"A\",\"A A\",\"A B\",..: 232 446\n",
      "  ..$ Surname           : Factor w/ 6072 levels \"Abbas\",\"Abbinnett\",..: 5122 5122\n",
      "  ..$ Suffix            : Factor w/ 7 levels \"\",\"JNR\",\"JUN\",..: 1 1\n",
      "  ..$ Date.Of.Attainment: Factor w/ 258 levels \"\",\"01/01/17\",..: 1 1\n",
      "  ..$ Franchise.Flag    : Factor w/ 4 levels \"\",\"F\",\"G\",\"L\": 1 1\n",
      "  ..$ Name.Flat         : Factor w/ 1407 levels \"\",\"1  BALJAFFRAY COTTAGES\",..: 1080 1080\n",
      "  ..$ Street            : Factor w/ 26207 levels \"\",\"1 BALQUHARRAGE FARM COTTAGES\",..: 26032 26032\n",
      "  ..$ Town              : Factor w/ 20 levels \"AUCHINSTARRY\",..: 9 9\n",
      "  ..$ Nearby.Town       : Factor w/ 5 levels \"\",\"CLACHAN OF CAMPSIE\",..: 3 3\n",
      "  ..$ Area              : Factor w/ 9 levels \"BEARSDEN NORTH\",..: 5 5\n",
      "  ..$ Postcode          : Factor w/ 2869 levels \"\",\"G33 1SA\",\"G33 1SZ\",..: 1780 1780\n",
      " $ CUMBERNAULD              :'data.frame':\t5 obs. of  18 variables:\n",
      "  ..$ X                 : int [1:5] 48532 48638 48661 48662 48663\n",
      "  ..$ PD                : Factor w/ 51 levels \"CS50\",\"CS51\",..: 11 11 11 11 11\n",
      "  ..$ ENO               : num [1:5] 247 386 422 423 425\n",
      "  ..$ Status            : Factor w/ 3 levels \"A\",\"E\",\"M\": 2 2 2 2 2\n",
      "  ..$ Sex               : Factor w/ 3 levels \"?\",\"Female\",\"Male\": 2 2 2 3 3\n",
      "  ..$ Title             : Factor w/ 7 levels \"\",\"DR\",\"LADY\",..: 1 1 1 1 1\n",
      "  ..$ First.Name        : Factor w/ 3629 levels \"Aaron\",\"Aarti\",..: 1927 950 1456 2875 3283\n",
      "  ..$ Middle.Initials   : Factor w/ 1185 levels \"\",\"A\",\"A A\",\"A B\",..: 374 1 1 1 1\n",
      "  ..$ Surname           : Factor w/ 6072 levels \"Abbas\",\"Abbinnett\",..: 4565 3764 4827 4827 4827\n",
      "  ..$ Suffix            : Factor w/ 7 levels \"\",\"JNR\",\"JUN\",..: 1 1 1 1 1\n",
      "  ..$ Date.Of.Attainment: Factor w/ 258 levels \"\",\"01/01/17\",..: 1 1 1 1 1\n",
      "  ..$ Franchise.Flag    : Factor w/ 4 levels \"\",\"F\",\"G\",\"L\": 1 1 1 1 1\n",
      "  ..$ Name.Flat         : Factor w/ 1407 levels \"\",\"1  BALJAFFRAY COTTAGES\",..: 509 1101 676 676 676\n",
      "  ..$ Street            : Factor w/ 26207 levels \"\",\"1 BALQUHARRAGE FARM COTTAGES\",..: 26098 26105 26143 26143 26143\n",
      "  ..$ Town              : Factor w/ 20 levels \"AUCHINSTARRY\",..: 10 10 10 10 10\n",
      "  ..$ Nearby.Town       : Factor w/ 5 levels \"\",\"CLACHAN OF CAMPSIE\",..: 1 1 1 1 1\n",
      "  ..$ Area              : Factor w/ 9 levels \"BEARSDEN NORTH\",..: 6 6 6 6 6\n",
      "  ..$ Postcode          : Factor w/ 2869 levels \"\",\"G33 1SA\",\"G33 1SZ\",..: 2865 2865 2864 2864 2864\n",
      " $ HAUGHHEAD                :'data.frame':\t7 obs. of  18 variables:\n",
      "  ..$ X                 : int [1:7] 36348 36349 36350 36351 36352 36353 36354\n",
      "  ..$ PD                : Factor w/ 51 levels \"CS50\",\"CS51\",..: 2 2 2 2 2 2 2\n",
      "  ..$ ENO               : num [1:7] 253 254 255 256 262 263 296\n",
      "  ..$ Status            : Factor w/ 3 levels \"A\",\"E\",\"M\": 2 2 2 2 2 2 1\n",
      "  ..$ Sex               : Factor w/ 3 levels \"?\",\"Female\",\"Male\": 3 2 3 2 3 2 3\n",
      "  ..$ Title             : Factor w/ 7 levels \"\",\"DR\",\"LADY\",..: 1 1 1 1 1 1 1\n",
      "  ..$ First.Name        : Factor w/ 3629 levels \"Aaron\",\"Aarti\",..: 3408 2620 91 863 222 2078 1631\n",
      "  ..$ Middle.Initials   : Factor w/ 1185 levels \"\",\"A\",\"A A\",\"A B\",..: 1 154 232 1082 390 154 1018\n",
      "  ..$ Surname           : Factor w/ 6072 levels \"Abbas\",\"Abbinnett\",..: 3502 4210 2869 4600 4211 4211 733\n",
      "  ..$ Suffix            : Factor w/ 7 levels \"\",\"JNR\",\"JUN\",..: 1 1 1 1 1 1 1\n",
      "  ..$ Date.Of.Attainment: Factor w/ 258 levels \"\",\"01/01/17\",..: 1 1 1 1 1 1 1\n",
      "  ..$ Franchise.Flag    : Factor w/ 4 levels \"\",\"F\",\"G\",\"L\": 1 1 1 1 1 1 1\n",
      "  ..$ Name.Flat         : Factor w/ 1407 levels \"\",\"1  BALJAFFRAY COTTAGES\",..: 1 1 1 1 1 1 660\n",
      "  ..$ Street            : Factor w/ 26207 levels \"\",\"1 BALQUHARRAGE FARM COTTAGES\",..: 19984 20239 21250 21250 22120 22120 26177\n",
      "  ..$ Town              : Factor w/ 20 levels \"AUCHINSTARRY\",..: 11 11 11 11 11 11 11\n",
      "  ..$ Nearby.Town       : Factor w/ 5 levels \"\",\"CLACHAN OF CAMPSIE\",..: 2 2 2 2 2 2 2\n",
      "  ..$ Area              : Factor w/ 9 levels \"BEARSDEN NORTH\",..: 5 5 5 5 5 5 5\n",
      "  ..$ Postcode          : Factor w/ 2869 levels \"\",\"G33 1SA\",\"G33 1SZ\",..: 2645 2645 2645 2645 2645 2645 2644\n",
      " $ KIRKINTILLOCH            :'data.frame':\t9659 obs. of  18 variables:\n",
      "  ..$ X                 : int [1:9659] 1 2 3 4 5 6 7 8 9 10 ...\n",
      "  ..$ PD                : Factor w/ 51 levels \"CS50\",\"CS51\",..: 5 5 5 5 5 5 5 5 5 51 ...\n",
      "  ..$ ENO               : num [1:9659] 1 2 3 4 5 6 7 8 9 1 ...\n",
      "  ..$ Status            : Factor w/ 3 levels \"A\",\"E\",\"M\": 2 2 2 2 2 2 2 2 2 2 ...\n",
      "  ..$ Sex               : Factor w/ 3 levels \"?\",\"Female\",\"Male\": 2 3 3 2 3 2 2 2 3 2 ...\n",
      "  ..$ Title             : Factor w/ 7 levels \"\",\"DR\",\"LADY\",..: 1 1 1 1 1 1 1 1 1 1 ...\n",
      "  ..$ First.Name        : Factor w/ 3629 levels \"Aaron\",\"Aarti\",..: 944 1146 1146 199 1631 2936 1322 1520 3551 1511 ...\n",
      "  ..$ Middle.Initials   : Factor w/ 1185 levels \"\",\"A\",\"A A\",\"A B\",..: 1 1 526 1 1 1 1 1 1 14 ...\n",
      "  ..$ Surname           : Factor w/ 6072 levels \"Abbas\",\"Abbinnett\",..: 3600 3600 3600 5495 5495 5495 1991 1991 1991 4490 ...\n",
      "  ..$ Suffix            : Factor w/ 7 levels \"\",\"JNR\",\"JUN\",..: 1 1 1 1 1 1 1 1 1 1 ...\n",
      "  ..$ Date.Of.Attainment: Factor w/ 258 levels \"\",\"01/01/17\",..: 1 1 1 1 1 1 1 1 1 1 ...\n",
      "  ..$ Franchise.Flag    : Factor w/ 4 levels \"\",\"F\",\"G\",\"L\": 1 1 1 1 1 1 1 1 1 1 ...\n",
      "  ..$ Name.Flat         : Factor w/ 1407 levels \"\",\"1  BALJAFFRAY COTTAGES\",..: 1 1 1 1 1 1 1 1 1 1 ...\n",
      "  ..$ Street            : Factor w/ 26207 levels \"\",\"1 BALQUHARRAGE FARM COTTAGES\",..: 18035 18035 18035 19091 19091 19091 19397 19397 19397 111 ...\n",
      "  ..$ Town              : Factor w/ 20 levels \"AUCHINSTARRY\",..: 12 12 12 12 12 12 12 12 12 12 ...\n",
      "  ..$ Nearby.Town       : Factor w/ 5 levels \"\",\"CLACHAN OF CAMPSIE\",..: 1 1 1 1 1 1 1 1 1 1 ...\n",
      "  ..$ Area              : Factor w/ 9 levels \"BEARSDEN NORTH\",..: 5 5 5 5 5 5 5 5 5 5 ...\n",
      "  ..$ Postcode          : Factor w/ 2869 levels \"\",\"G33 1SA\",\"G33 1SZ\",..: 2137 2137 2137 2137 2137 2137 2137 2137 2137 2274 ...\n",
      " $ LENNOXTOWN               :'data.frame':\t2140 obs. of  18 variables:\n",
      "  ..$ X                 : int [1:2140] 34160 34161 34162 34163 34166 34167 34168 34169 34170 34171 ...\n",
      "  ..$ PD                : Factor w/ 51 levels \"CS50\",\"CS51\",..: 1 1 1 1 1 1 1 1 1 1 ...\n",
      "  ..$ ENO               : num [1:2140] 1 2 6 7 10 11 12 14 18 19 ...\n",
      "  ..$ Status            : Factor w/ 3 levels \"A\",\"E\",\"M\": 2 2 2 2 2 2 2 2 2 2 ...\n",
      "  ..$ Sex               : Factor w/ 3 levels \"?\",\"Female\",\"Male\": 2 3 2 3 2 3 1 2 3 1 ...\n",
      "  ..$ Title             : Factor w/ 7 levels \"\",\"DR\",\"LADY\",..: 1 1 1 1 1 1 1 1 1 1 ...\n",
      "  ..$ First.Name        : Factor w/ 3629 levels \"Aaron\",\"Aarti\",..: 1435 2875 170 1821 925 1650 641 2216 1135 1987 ...\n",
      "  ..$ Middle.Initials   : Factor w/ 1185 levels \"\",\"A\",\"A A\",\"A B\",..: 1 1 722 2 1 1 526 115 1018 526 ...\n",
      "  ..$ Surname           : Factor w/ 6072 levels \"Abbas\",\"Abbinnett\",..: 1393 1393 1325 1325 5841 5884 1646 5402 1270 1270 ...\n",
      "  ..$ Suffix            : Factor w/ 7 levels \"\",\"JNR\",\"JUN\",..: 1 1 1 1 1 1 1 1 1 1 ...\n",
      "  ..$ Date.Of.Attainment: Factor w/ 258 levels \"\",\"01/01/17\",..: 1 1 1 1 1 1 1 1 1 1 ...\n",
      "  ..$ Franchise.Flag    : Factor w/ 4 levels \"\",\"F\",\"G\",\"L\": 1 1 1 1 1 1 1 1 1 1 ...\n",
      "  ..$ Name.Flat         : Factor w/ 1407 levels \"\",\"1  BALJAFFRAY COTTAGES\",..: 1 1 1 1 1 1 1 1 1 1 ...\n",
      "  ..$ Street            : Factor w/ 26207 levels \"\",\"1 BALQUHARRAGE FARM COTTAGES\",..: 26048 26048 26066 26066 33 33 12039 18178 1744 1744 ...\n",
      "  ..$ Town              : Factor w/ 20 levels \"AUCHINSTARRY\",..: 13 13 13 13 13 13 13 13 13 13 ...\n",
      "  ..$ Nearby.Town       : Factor w/ 5 levels \"\",\"CLACHAN OF CAMPSIE\",..: 1 1 1 1 1 1 1 1 1 1 ...\n",
      "  ..$ Area              : Factor w/ 9 levels \"BEARSDEN NORTH\",..: 5 5 5 5 5 5 5 5 5 5 ...\n",
      "  ..$ Postcode          : Factor w/ 2869 levels \"\",\"G33 1SA\",\"G33 1SZ\",..: 2754 2754 2735 2735 2655 2655 2655 2655 2655 2655 ...\n",
      " $ LENZIE                   :'data.frame':\t4305 obs. of  18 variables:\n",
      "  ..$ X                 : int [1:4305] 8168 8169 8170 8171 8172 8173 8174 8175 8176 8177 ...\n",
      "  ..$ PD                : Factor w/ 51 levels \"CS50\",\"CS51\",..: 12 12 12 12 12 12 12 12 12 12 ...\n",
      "  ..$ ENO               : num [1:4305] 343 51 52 53 55 57 71 72 73 75 ...\n",
      "  ..$ Status            : Factor w/ 3 levels \"A\",\"E\",\"M\": 1 2 2 2 2 2 2 2 2 2 ...\n",
      "  ..$ Sex               : Factor w/ 3 levels \"?\",\"Female\",\"Male\": 3 3 1 3 3 3 3 2 2 3 ...\n",
      "  ..$ Title             : Factor w/ 7 levels \"\",\"DR\",\"LADY\",..: 1 1 1 1 1 1 1 1 1 1 ...\n",
      "  ..$ First.Name        : Factor w/ 3629 levels \"Aaron\",\"Aarti\",..: 2370 3283 2888 2973 880 2672 3071 3131 2560 3283 ...\n",
      "  ..$ Middle.Initials   : Factor w/ 1185 levels \"\",\"A\",\"A A\",\"A B\",..: 1 1 1082 1133 154 1 722 722 2 1 ...\n",
      "  ..$ Surname           : Factor w/ 6072 levels \"Abbas\",\"Abbinnett\",..: 5900 5937 2087 2342 1132 3971 5368 5368 3788 3776 ...\n",
      "  ..$ Suffix            : Factor w/ 7 levels \"\",\"JNR\",\"JUN\",..: 1 1 1 1 1 1 1 1 1 1 ...\n",
      "  ..$ Date.Of.Attainment: Factor w/ 258 levels \"\",\"01/01/17\",..: 1 1 1 1 1 1 1 1 1 1 ...\n",
      "  ..$ Franchise.Flag    : Factor w/ 4 levels \"\",\"F\",\"G\",\"L\": 1 1 1 1 1 1 1 1 1 1 ...\n",
      "  ..$ Name.Flat         : Factor w/ 1407 levels \"\",\"1  BALJAFFRAY COTTAGES\",..: 1 763 860 860 1053 753 1 1 1 1 ...\n",
      "  ..$ Street            : Factor w/ 26207 levels \"\",\"1 BALQUHARRAGE FARM COTTAGES\",..: 201 12316 12316 12316 12316 18432 1953 1953 4731 9599 ...\n",
      "  ..$ Town              : Factor w/ 20 levels \"AUCHINSTARRY\",..: 14 14 14 14 14 14 14 14 14 14 ...\n",
      "  ..$ Nearby.Town       : Factor w/ 5 levels \"\",\"CLACHAN OF CAMPSIE\",..: 1 1 1 1 1 1 1 1 1 1 ...\n",
      "  ..$ Area              : Factor w/ 9 levels \"BEARSDEN NORTH\",..: 5 5 5 5 5 5 5 5 5 5 ...\n",
      "  ..$ Postcode          : Factor w/ 2869 levels \"\",\"G33 1SA\",\"G33 1SZ\",..: 2349 2311 2311 2311 2311 2311 2311 2311 2311 2311 ...\n",
      " $ MILNGAVIE                :'data.frame':\t5996 obs. of  18 variables:\n",
      "  ..$ X                 : int [1:5996] 1189 1190 1191 1192 1193 1194 1195 1196 1197 1198 ...\n",
      "  ..$ PD                : Factor w/ 51 levels \"CS50\",\"CS51\",..: 15 15 15 15 15 15 15 15 15 15 ...\n",
      "  ..$ ENO               : num [1:5996] 1 2 3 4 5 6 8 10 11 12 ...\n",
      "  ..$ Status            : Factor w/ 3 levels \"A\",\"E\",\"M\": 2 2 2 2 2 2 2 2 2 2 ...\n",
      "  ..$ Sex               : Factor w/ 3 levels \"?\",\"Female\",\"Male\": 2 2 2 3 3 3 2 2 3 2 ...\n",
      "  ..$ Title             : Factor w/ 7 levels \"\",\"DR\",\"LADY\",..: 1 1 1 1 1 1 1 1 1 1 ...\n",
      "  ..$ First.Name        : Factor w/ 3629 levels \"Aaron\",\"Aarti\",..: 976 2346 2376 3274 2272 1654 216 1560 3408 579 ...\n",
      "  ..$ Middle.Initials   : Factor w/ 1185 levels \"\",\"A\",\"A A\",\"A B\",..: 1 722 1 1 1133 945 1 1 1 1 ...\n",
      "  ..$ Surname           : Factor w/ 6072 levels \"Abbas\",\"Abbinnett\",..: 142 142 142 142 5208 1593 4355 2654 2654 5962 ...\n",
      "  ..$ Suffix            : Factor w/ 7 levels \"\",\"JNR\",\"JUN\",..: 1 1 1 1 1 1 1 1 1 1 ...\n",
      "  ..$ Date.Of.Attainment: Factor w/ 258 levels \"\",\"01/01/17\",..: 1 1 1 1 1 1 1 1 1 1 ...\n",
      "  ..$ Franchise.Flag    : Factor w/ 4 levels \"\",\"F\",\"G\",\"L\": 1 1 1 1 1 1 1 1 1 1 ...\n",
      "  ..$ Name.Flat         : Factor w/ 1407 levels \"\",\"1  BALJAFFRAY COTTAGES\",..: 1 1 1 1 1 1 1 1 1 1 ...\n",
      "  ..$ Street            : Factor w/ 26207 levels \"\",\"1 BALQUHARRAGE FARM COTTAGES\",..: 39 39 39 39 39 12046 12046 18183 18183 22181 ...\n",
      "  ..$ Town              : Factor w/ 20 levels \"AUCHINSTARRY\",..: 15 15 15 15 15 15 15 15 15 15 ...\n",
      "  ..$ Nearby.Town       : Factor w/ 5 levels \"\",\"CLACHAN OF CAMPSIE\",..: 1 1 1 1 1 1 1 1 1 1 ...\n",
      "  ..$ Area              : Factor w/ 9 levels \"BEARSDEN NORTH\",..: 5 5 5 5 5 5 5 5 5 5 ...\n",
      "  ..$ Postcode          : Factor w/ 2869 levels \"\",\"G33 1SA\",\"G33 1SZ\",..: 941 941 941 941 941 941 941 941 941 941 ...\n",
      " $ MILTON OF CAMPSIE        :'data.frame':\t2034 obs. of  18 variables:\n",
      "  ..$ X                 : int [1:2034] 34164 34165 36343 36344 36345 36346 36347 36366 36367 36368 ...\n",
      "  ..$ PD                : Factor w/ 51 levels \"CS50\",\"CS51\",..: 1 1 2 2 2 2 2 3 3 3 ...\n",
      "  ..$ ENO               : num [1:2034] 8 9 241 246 247 250 251 7 8 9 ...\n",
      "  ..$ Status            : Factor w/ 3 levels \"A\",\"E\",\"M\": 2 2 2 2 2 2 2 2 2 2 ...\n",
      "  ..$ Sex               : Factor w/ 3 levels \"?\",\"Female\",\"Male\": 2 3 2 3 2 2 3 3 2 3 ...\n",
      "  ..$ Title             : Factor w/ 7 levels \"\",\"DR\",\"LADY\",..: 1 1 1 1 1 1 1 1 1 1 ...\n",
      "  ..$ First.Name        : Factor w/ 3629 levels \"Aaron\",\"Aarti\",..: 1172 1801 3151 112 2118 2033 2875 149 1456 1005 ...\n",
      "  ..$ Middle.Initials   : Factor w/ 1185 levels \"\",\"A\",\"A A\",\"A B\",..: 1 658 1 446 856 526 1 115 1 1018 ...\n",
      "  ..$ Surname           : Factor w/ 6072 levels \"Abbas\",\"Abbinnett\",..: 5896 5896 5818 344 5266 798 798 733 733 2508 ...\n",
      "  ..$ Suffix            : Factor w/ 7 levels \"\",\"JNR\",\"JUN\",..: 1 1 1 1 1 1 1 1 1 1 ...\n",
      "  ..$ Date.Of.Attainment: Factor w/ 258 levels \"\",\"01/01/17\",..: 1 1 1 1 1 1 1 1 1 1 ...\n",
      "  ..$ Franchise.Flag    : Factor w/ 4 levels \"\",\"F\",\"G\",\"L\": 1 1 1 1 1 1 1 1 1 1 ...\n",
      "  ..$ Name.Flat         : Factor w/ 1407 levels \"\",\"1  BALJAFFRAY COTTAGES\",..: 1394 1394 667 1272 1272 1384 1384 1 1 1 ...\n",
      "  ..$ Street            : Factor w/ 26207 levels \"\",\"1 BALQUHARRAGE FARM COTTAGES\",..: 1 1 26177 696 696 26177 26177 26170 26170 26170 ...\n",
      "  ..$ Town              : Factor w/ 20 levels \"AUCHINSTARRY\",..: 16 16 16 16 16 16 16 16 16 16 ...\n",
      "  ..$ Nearby.Town       : Factor w/ 5 levels \"\",\"CLACHAN OF CAMPSIE\",..: 1 1 1 1 1 1 1 1 1 1 ...\n",
      "  ..$ Area              : Factor w/ 9 levels \"BEARSDEN NORTH\",..: 5 5 5 5 5 5 5 5 5 5 ...\n",
      "  ..$ Postcode          : Factor w/ 2869 levels \"\",\"G33 1SA\",\"G33 1SZ\",..: 2820 2820 2644 2644 2644 2644 2644 1938 1938 1938 ...\n",
      " $ OTHER ELECTORS           :'data.frame':\t41 obs. of  18 variables:\n",
      "  ..$ X                 : int [1:41] 4157 4158 7326 7327 7328 7329 8458 15329 16168 17840 ...\n",
      "  ..$ PD                : Factor w/ 51 levels \"CS50\",\"CS51\",..: 22 22 23 23 23 23 45 16 17 18 ...\n",
      "  ..$ ENO               : num [1:41] 2311 2327 1999 1977 1978 ...\n",
      "  ..$ Status            : Factor w/ 3 levels \"A\",\"E\",\"M\": 1 1 1 1 1 2 1 1 1 1 ...\n",
      "  ..$ Sex               : Factor w/ 3 levels \"?\",\"Female\",\"Male\": 2 3 2 3 2 2 2 2 3 3 ...\n",
      "  ..$ Title             : Factor w/ 7 levels \"\",\"DR\",\"LADY\",..: 1 1 1 1 1 1 1 1 1 1 ...\n",
      "  ..$ First.Name        : Factor w/ 3629 levels \"Aaron\",\"Aarti\",..: 876 1390 2090 490 1000 3373 2078 672 2370 1631 ...\n",
      "  ..$ Middle.Initials   : Factor w/ 1185 levels \"\",\"A\",\"A A\",\"A B\",..: 1 843 564 441 1 832 607 95 1160 1041 ...\n",
      "  ..$ Surname           : Factor w/ 6072 levels \"Abbas\",\"Abbinnett\",..: 812 4947 2345 3954 3954 4561 2212 2377 5395 558 ...\n",
      "  ..$ Suffix            : Factor w/ 7 levels \"\",\"JNR\",\"JUN\",..: 1 1 1 1 1 1 1 1 1 1 ...\n",
      "  ..$ Date.Of.Attainment: Factor w/ 258 levels \"\",\"01/01/17\",..: 1 1 1 1 1 1 1 1 1 1 ...\n",
      "  ..$ Franchise.Flag    : Factor w/ 4 levels \"\",\"F\",\"G\",\"L\": 2 2 2 2 2 2 2 2 2 2 ...\n",
      "  ..$ Name.Flat         : Factor w/ 1407 levels \"\",\"1  BALJAFFRAY COTTAGES\",..: 1 1 1 1 1 1 1 1 1 1 ...\n",
      "  ..$ Street            : Factor w/ 26207 levels \"\",\"1 BALQUHARRAGE FARM COTTAGES\",..: 1 1 1 1 1 1 1 1 1 1 ...\n",
      "  ..$ Town              : Factor w/ 20 levels \"AUCHINSTARRY\",..: 17 17 17 17 17 17 17 17 17 17 ...\n",
      "  ..$ Nearby.Town       : Factor w/ 5 levels \"\",\"CLACHAN OF CAMPSIE\",..: 1 1 1 1 1 1 1 1 1 1 ...\n",
      "  ..$ Area              : Factor w/ 9 levels \"BEARSDEN NORTH\",..: 2 2 2 2 2 2 9 1 1 1 ...\n",
      "  ..$ Postcode          : Factor w/ 2869 levels \"\",\"G33 1SA\",\"G33 1SZ\",..: 1 1 1 1 1 1 1 1 1 1 ...\n",
      " $ TAMBOWIE_CRAIGTON VILLAGE:'data.frame':\t9 obs. of  18 variables:\n",
      "  ..$ X                 : int [1:9] 13969 13970 13971 13972 13973 13974 13975 13976 13977\n",
      "  ..$ PD                : Factor w/ 51 levels \"CS50\",\"CS51\",..: 14 14 14 14 14 14 14 14 14\n",
      "  ..$ ENO               : num [1:9] 3707 3708 3710 3711 3712 ...\n",
      "  ..$ Status            : Factor w/ 3 levels \"A\",\"E\",\"M\": 2 2 2 2 2 2 2 2 2\n",
      "  ..$ Sex               : Factor w/ 3 levels \"?\",\"Female\",\"Male\": 3 1 2 2 3 2 3 2 3\n",
      "  ..$ Title             : Factor w/ 7 levels \"\",\"DR\",\"LADY\",..: 1 1 1 1 1 1 1 1 1\n",
      "  ..$ First.Name        : Factor w/ 3629 levels \"Aaron\",\"Aarti\",..: 856 2109 2679 2243 2688 925 1390 1435 2459\n",
      "  ..$ Middle.Initials   : Factor w/ 1185 levels \"\",\"A\",\"A A\",\"A B\",..: 722 2 1 1 1 1 1 1 1\n",
      "  ..$ Surname           : Factor w/ 6072 levels \"Abbas\",\"Abbinnett\",..: 2081 2081 3737 2983 2983 3539 3539 2081 902\n",
      "  ..$ Suffix            : Factor w/ 7 levels \"\",\"JNR\",\"JUN\",..: 1 1 1 1 1 1 1 1 1\n",
      "  ..$ Date.Of.Attainment: Factor w/ 258 levels \"\",\"01/01/17\",..: 1 1 1 1 1 1 1 1 1\n",
      "  ..$ Franchise.Flag    : Factor w/ 4 levels \"\",\"F\",\"G\",\"L\": 1 1 1 1 1 1 1 1 1\n",
      "  ..$ Name.Flat         : Factor w/ 1407 levels \"\",\"1  BALJAFFRAY COTTAGES\",..: 150 150 257 314 314 533 533 1316 1358\n",
      "  ..$ Street            : Factor w/ 26207 levels \"\",\"1 BALQUHARRAGE FARM COTTAGES\",..: 1 1 1 1 1 1 1 1 1\n",
      "  ..$ Town              : Factor w/ 20 levels \"AUCHINSTARRY\",..: 18 18 18 18 18 18 18 18 18\n",
      "  ..$ Nearby.Town       : Factor w/ 5 levels \"\",\"CLACHAN OF CAMPSIE\",..: 4 4 4 4 4 4 4 4 4\n",
      "  ..$ Area              : Factor w/ 9 levels \"BEARSDEN NORTH\",..: 5 5 5 5 5 5 5 5 5\n",
      "  ..$ Postcode          : Factor w/ 2869 levels \"\",\"G33 1SA\",\"G33 1SZ\",..: 895 895 895 890 890 895 895 895 895\n",
      " $ TORRANCE                 :'data.frame':\t1223 obs. of  18 variables:\n",
      "  ..$ X                 : int [1:1223] 22426 22427 22428 22429 22430 22431 22432 22433 22434 22435 ...\n",
      "  ..$ PD                : Factor w/ 51 levels \"CS50\",\"CS51\",..: 34 34 34 34 34 34 34 34 34 34 ...\n",
      "  ..$ ENO               : num [1:1223] 2 3 4 5 6 7 8 9 13 14 ...\n",
      "  ..$ Status            : Factor w/ 3 levels \"A\",\"E\",\"M\": 2 2 2 2 2 2 2 2 2 2 ...\n",
      "  ..$ Sex               : Factor w/ 3 levels \"?\",\"Female\",\"Male\": 2 3 2 3 3 2 3 2 3 3 ...\n",
      "  ..$ Title             : Factor w/ 7 levels \"\",\"DR\",\"LADY\",..: 1 1 1 1 1 1 1 1 1 1 ...\n",
      "  ..$ First.Name        : Factor w/ 3629 levels \"Aaron\",\"Aarti\",..: 2669 856 1728 91 2875 3331 2688 3450 2142 2603 ...\n",
      "  ..$ Middle.Initials   : Factor w/ 1185 levels \"\",\"A\",\"A A\",\"A B\",..: 1 501 295 18 501 526 1018 1 548 1 ...\n",
      "  ..$ Surname           : Factor w/ 6072 levels \"Abbas\",\"Abbinnett\",..: 3017 2495 2495 614 614 614 3645 3645 5440 5440 ...\n",
      "  ..$ Suffix            : Factor w/ 7 levels \"\",\"JNR\",\"JUN\",..: 1 1 1 1 1 1 1 1 1 1 ...\n",
      "  ..$ Date.Of.Attainment: Factor w/ 258 levels \"\",\"01/01/17\",..: 1 1 1 1 1 1 1 1 1 1 ...\n",
      "  ..$ Franchise.Flag    : Factor w/ 4 levels \"\",\"F\",\"G\",\"L\": 1 1 1 1 1 1 1 1 1 1 ...\n",
      "  ..$ Name.Flat         : Factor w/ 1407 levels \"\",\"1  BALJAFFRAY COTTAGES\",..: 1 1 1 1 1 1 1 1 1 1 ...\n",
      "  ..$ Street            : Factor w/ 26207 levels \"\",\"1 BALQUHARRAGE FARM COTTAGES\",..: 26203 26067 26067 26077 26077 26077 26107 26107 26119 26119 ...\n",
      "  ..$ Town              : Factor w/ 20 levels \"AUCHINSTARRY\",..: 19 19 19 19 19 19 19 19 19 19 ...\n",
      "  ..$ Nearby.Town       : Factor w/ 5 levels \"\",\"CLACHAN OF CAMPSIE\",..: 1 1 1 1 1 1 1 1 1 1 ...\n",
      "  ..$ Area              : Factor w/ 9 levels \"BEARSDEN NORTH\",..: 5 5 5 5 5 5 5 5 5 5 ...\n",
      "  ..$ Postcode          : Factor w/ 2869 levels \"\",\"G33 1SA\",\"G33 1SZ\",..: 1759 1722 1722 1722 1722 1722 1731 1731 1732 1732 ...\n",
      " $ TWECHAR                  :'data.frame':\t616 obs. of  18 variables:\n",
      "  ..$ X                 : int [1:616] 27648 27649 27650 27651 27652 27653 27654 27655 27656 27657 ...\n",
      "  ..$ PD                : Factor w/ 51 levels \"CS50\",\"CS51\",..: 6 6 6 6 6 6 6 6 6 6 ...\n",
      "  ..$ ENO               : num [1:616] 1 2 954 927 944 4 5 6 7 8 ...\n",
      "  ..$ Status            : Factor w/ 3 levels \"A\",\"E\",\"M\": 2 2 1 1 1 2 2 2 2 2 ...\n",
      "  ..$ Sex               : Factor w/ 3 levels \"?\",\"Female\",\"Male\": 2 3 2 2 2 3 2 2 3 3 ...\n",
      "  ..$ Title             : Factor w/ 7 levels \"\",\"DR\",\"LADY\",..: 1 1 1 1 1 1 1 1 1 1 ...\n",
      "  ..$ First.Name        : Factor w/ 3629 levels \"Aaron\",\"Aarti\",..: 555 754 789 975 3041 1123 2286 579 1631 984 ...\n",
      "  ..$ Middle.Initials   : Factor w/ 1185 levels \"\",\"A\",\"A A\",\"A B\",..: 1 1 790 1 37 1133 722 115 1082 1 ...\n",
      "  ..$ Surname           : Factor w/ 6072 levels \"Abbas\",\"Abbinnett\",..: 2567 3780 973 2151 2151 4565 4565 4508 4508 3673 ...\n",
      "  ..$ Suffix            : Factor w/ 7 levels \"\",\"JNR\",\"JUN\",..: 1 1 1 1 1 1 1 1 1 1 ...\n",
      "  ..$ Date.Of.Attainment: Factor w/ 258 levels \"\",\"01/01/17\",..: 1 1 1 197 1 1 1 1 1 1 ...\n",
      "  ..$ Franchise.Flag    : Factor w/ 4 levels \"\",\"F\",\"G\",\"L\": 1 1 1 1 1 1 1 1 1 1 ...\n",
      "  ..$ Name.Flat         : Factor w/ 1407 levels \"\",\"1  BALJAFFRAY COTTAGES\",..: 1 1 1 1 1 1 1 1 1 1 ...\n",
      "  ..$ Street            : Factor w/ 26207 levels \"\",\"1 BALQUHARRAGE FARM COTTAGES\",..: 12008 12008 26029 26029 26029 26053 26053 26095 26095 26164 ...\n",
      "  ..$ Town              : Factor w/ 20 levels \"AUCHINSTARRY\",..: 20 20 20 20 20 20 20 20 20 20 ...\n",
      "  ..$ Nearby.Town       : Factor w/ 5 levels \"\",\"CLACHAN OF CAMPSIE\",..: 1 1 1 1 1 1 1 1 1 1 ...\n",
      "  ..$ Area              : Factor w/ 9 levels \"BEARSDEN NORTH\",..: 5 5 5 5 5 5 5 5 5 5 ...\n",
      "  ..$ Postcode          : Factor w/ 2869 levels \"\",\"G33 1SA\",\"G33 1SZ\",..: 2127 2127 1940 1940 1940 1939 1939 2346 2346 1940 ...\n"
     ]
    }
   ],
   "source": [
    "str(Town_list)"
   ]
  },
  {
   "cell_type": "code",
   "execution_count": 164,
   "metadata": {
    "collapsed": false
   },
   "outputs": [],
   "source": [
    "Croy <- as.data.frame(table(Town_list$CROY$Sex))\n",
    "Auchinstarry <- as.data.frame(table(Town_list$AUCHINSTARRY$Sex))\n",
    "Baldernock <- as.data.frame(table(Town_list$BALDERNOCK $Sex))\n",
    "Balmore <- as.data.frame(table(Town_list$BALMORE$Sex))\n",
    "Bardowie <- as.data.frame(table(Town_list$BARDOWIE$Sex))\n",
    "Bearsden <- as.data.frame(table(Town_list$BEARSDEN$Sex))\n",
    "Bishopbriggs <- as.data.frame(table(Town_list$BISHOPBRIGGS$Sex))\n",
    "Clydebank <- as.data.frame(table(Town_list$CLYDEBANK$Sex))\n",
    "Cumbernauld <- as.data.frame(table(Town_list$CUMBERNAULD$Sex))\n",
    "Haughhead <- as.data.frame(table(Town_list$HAUGHHEAD$Sex))\n",
    "Kirkintilloch <- as.data.frame(table(Town_list$KIRKINTILLOCH$Sex))\n",
    "Lennoxtown <- as.data.frame(table(Town_list$LENNOXTOWN$Sex))\n",
    "Milngavie <- as.data.frame(table(Town_list$MILNGAVIE$Sex))\n",
    "Torrance <- as.data.frame(table(Town_list$TORRANCE$Sex))\n",
    "Twechar <- as.data.frame(table(Town_list$TWECHAR$Sex))\n",
    "CampsieGlen <- as.data.frame(table(Town_list$CLACHAN$Sex))\n",
    "MiltonCampsie <- as.data.frame(table(Town_list$MILTON$Sex))\n",
    "Postal <- as.data.frame(table(Town_list$OTHER$Sex))\n",
    "Tambowie <- as.data.frame(table(Town_list$TAMBOWIE$Sex))"
   ]
  },
  {
   "cell_type": "code",
   "execution_count": 136,
   "metadata": {
    "collapsed": false
   },
   "outputs": [
    {
     "data": {
      "text/html": [
       "<table>\n",
       "<thead><tr><th scope=col>Var1</th><th scope=col>Freq</th></tr></thead>\n",
       "<tbody>\n",
       "\t<tr><td>?     </td><td>0     </td></tr>\n",
       "\t<tr><td>Female</td><td>1     </td></tr>\n",
       "\t<tr><td>Male  </td><td>1     </td></tr>\n",
       "</tbody>\n",
       "</table>\n"
      ],
      "text/latex": [
       "\\begin{tabular}{r|ll}\n",
       " Var1 & Freq\\\\\n",
       "\\hline\n",
       "\t ?      & 0     \\\\\n",
       "\t Female & 1     \\\\\n",
       "\t Male   & 1     \\\\\n",
       "\\end{tabular}\n"
      ],
      "text/markdown": [
       "\n",
       "Var1 | Freq | \n",
       "|---|---|---|\n",
       "| ?      | 0      | \n",
       "| Female | 1      | \n",
       "| Male   | 1      | \n",
       "\n",
       "\n"
      ],
      "text/plain": [
       "  Var1   Freq\n",
       "1 ?      0   \n",
       "2 Female 1   \n",
       "3 Male   1   "
      ]
     },
     "metadata": {},
     "output_type": "display_data"
    }
   ],
   "source": [
    "Croy"
   ]
  },
  {
   "cell_type": "code",
   "execution_count": 119,
   "metadata": {
    "collapsed": false
   },
   "outputs": [
    {
     "data": {
      "text/html": [
       "<table>\n",
       "<thead><tr><th scope=col>Var1</th><th scope=col>Freq</th></tr></thead>\n",
       "<tbody>\n",
       "\t<tr><td>?     </td><td> 312  </td></tr>\n",
       "\t<tr><td>Female</td><td>4900  </td></tr>\n",
       "\t<tr><td>Male  </td><td>4447  </td></tr>\n",
       "</tbody>\n",
       "</table>\n"
      ],
      "text/latex": [
       "\\begin{tabular}{r|ll}\n",
       " Var1 & Freq\\\\\n",
       "\\hline\n",
       "\t ?      &  312  \\\\\n",
       "\t Female & 4900  \\\\\n",
       "\t Male   & 4447  \\\\\n",
       "\\end{tabular}\n"
      ],
      "text/markdown": [
       "\n",
       "Var1 | Freq | \n",
       "|---|---|---|\n",
       "| ?      |  312   | \n",
       "| Female | 4900   | \n",
       "| Male   | 4447   | \n",
       "\n",
       "\n"
      ],
      "text/plain": [
       "  Var1   Freq\n",
       "1 ?       312\n",
       "2 Female 4900\n",
       "3 Male   4447"
      ]
     },
     "metadata": {},
     "output_type": "display_data"
    }
   ],
   "source": [
    "Kirkintilloch"
   ]
  },
  {
   "cell_type": "code",
   "execution_count": 165,
   "metadata": {
    "collapsed": false
   },
   "outputs": [
    {
     "data": {
      "text/html": [
       "<ol class=list-inline>\n",
       "\t<li>312</li>\n",
       "\t<li>4900</li>\n",
       "\t<li>4447</li>\n",
       "</ol>\n"
      ],
      "text/latex": [
       "\\begin{enumerate*}\n",
       "\\item 312\n",
       "\\item 4900\n",
       "\\item 4447\n",
       "\\end{enumerate*}\n"
      ],
      "text/markdown": [
       "1. 312\n",
       "2. 4900\n",
       "3. 4447\n",
       "\n",
       "\n"
      ],
      "text/plain": [
       "[1]  312 4900 4447"
      ]
     },
     "metadata": {},
     "output_type": "display_data"
    }
   ],
   "source": [
    "Kirkintilloch$Freq"
   ]
  },
  {
   "cell_type": "code",
   "execution_count": 166,
   "metadata": {
    "collapsed": false
   },
   "outputs": [
    {
     "data": {
      "text/html": [
       "<table>\n",
       "<thead><tr><th scope=col>Var1</th><th scope=col>Freq</th></tr></thead>\n",
       "<tbody>\n",
       "\t<tr><td>?     </td><td>  80  </td></tr>\n",
       "\t<tr><td>Female</td><td>1012  </td></tr>\n",
       "\t<tr><td>Male  </td><td> 942  </td></tr>\n",
       "</tbody>\n",
       "</table>\n"
      ],
      "text/latex": [
       "\\begin{tabular}{r|ll}\n",
       " Var1 & Freq\\\\\n",
       "\\hline\n",
       "\t ?      &   80  \\\\\n",
       "\t Female & 1012  \\\\\n",
       "\t Male   &  942  \\\\\n",
       "\\end{tabular}\n"
      ],
      "text/markdown": [
       "\n",
       "Var1 | Freq | \n",
       "|---|---|---|\n",
       "| ?      |   80   | \n",
       "| Female | 1012   | \n",
       "| Male   |  942   | \n",
       "\n",
       "\n"
      ],
      "text/plain": [
       "  Var1   Freq\n",
       "1 ?        80\n",
       "2 Female 1012\n",
       "3 Male    942"
      ]
     },
     "metadata": {},
     "output_type": "display_data"
    }
   ],
   "source": [
    "MiltonCampsie"
   ]
  },
  {
   "cell_type": "code",
   "execution_count": null,
   "metadata": {
    "collapsed": true
   },
   "outputs": [],
   "source": []
  }
 ],
 "metadata": {
  "kernelspec": {
   "display_name": "R",
   "language": "R",
   "name": "ir"
  },
  "language_info": {
   "codemirror_mode": "r",
   "file_extension": ".r",
   "mimetype": "text/x-r-source",
   "name": "R",
   "pygments_lexer": "r",
   "version": "3.3.2"
  }
 },
 "nbformat": 4,
 "nbformat_minor": 2
}
